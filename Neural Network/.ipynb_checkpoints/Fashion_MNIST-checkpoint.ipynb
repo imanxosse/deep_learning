{
 "cells": [
  {
   "cell_type": "markdown",
   "metadata": {
    "colab_type": "text",
    "id": "fpHbyk57H3Qi"
   },
   "source": [
    "# Fashion MNIST\n",
    "\n",
    "- For more information regarding the fashion_mnist dataset, check this [link](https://www.kaggle.com/zalando-research/fashionmnist)\n"
   ]
  },
  {
   "cell_type": "markdown",
   "metadata": {
    "colab_type": "text",
    "id": "hzJ32aIxSf2A"
   },
   "source": [
    "## Loading the packages"
   ]
  },
  {
   "cell_type": "code",
   "execution_count": 1,
   "metadata": {
    "colab": {
     "base_uri": "https://localhost:8080/",
     "height": 53
    },
    "colab_type": "code",
    "id": "GX3Ol8BAH2gz",
    "outputId": "9654ae2c-9eb7-4d67-efab-7169c1745fc4"
   },
   "outputs": [],
   "source": [
    "import tensorflow as tf\n",
    "import numpy as np\n",
    "import pandas as pd\n",
    "import seaborn as sns\n",
    "import matplotlib.pyplot as plt\n",
    "import os\n",
    "\n",
    "%load_ext tensorboard\n",
    "%matplotlib inline"
   ]
  },
  {
   "cell_type": "code",
   "execution_count": 2,
   "metadata": {},
   "outputs": [],
   "source": [
    "# Clear any logs from previous runs\n",
    "!rm -r jpt_sample_logs\n",
    "\n",
    "# Create \"jpt_sample_logs\" folder if is not existed\n",
    "if not os.path.exists('jpt_sample_logs'):\n",
    "    os.makedirs('jpt_sample_logs')"
   ]
  },
  {
   "cell_type": "code",
   "execution_count": 3,
   "metadata": {
    "colab": {},
    "colab_type": "code",
    "id": "hcn53oK0H2kC"
   },
   "outputs": [],
   "source": [
    "(X_train_full, y_train_full), (X_test, y_test) = tf.keras.datasets.fashion_mnist.load_data()"
   ]
  },
  {
   "cell_type": "code",
   "execution_count": 4,
   "metadata": {
    "colab": {
     "base_uri": "https://localhost:8080/",
     "height": 53
    },
    "colab_type": "code",
    "id": "IuTzuNXdH2mz",
    "outputId": "1e70059d-c167-49d8-e68e-4b5a959a597b"
   },
   "outputs": [
    {
     "name": "stdout",
     "output_type": "stream",
     "text": [
      "(60000, 28, 28)\n",
      "(10000, 28, 28)\n"
     ]
    }
   ],
   "source": [
    "print(X_train_full.shape)\n",
    "print(X_test.shape)"
   ]
  },
  {
   "cell_type": "markdown",
   "metadata": {
    "colab_type": "text",
    "id": "ZQiGuDC5Iqjw"
   },
   "source": [
    "#### Observation \n",
    "- The dataset is split into training and test, however there is validation dataset, so, let's create a validation dataset"
   ]
  },
  {
   "cell_type": "code",
   "execution_count": 5,
   "metadata": {
    "colab": {},
    "colab_type": "code",
    "id": "Mg_z2GzzH2ps"
   },
   "outputs": [],
   "source": [
    "X_valid, X_train = X_train_full[:5000] / 255.0, X_train_full[5000:] / 255.0\n",
    "y_valid, y_train = y_train_full[:5000], y_train_full[5000:]\n",
    "X_test = X_test / 255.0"
   ]
  },
  {
   "cell_type": "code",
   "execution_count": 6,
   "metadata": {
    "colab": {},
    "colab_type": "code",
    "id": "RLpKU-LUJHrB"
   },
   "outputs": [],
   "source": [
    "class_names = [\"T-shirt/top\", \"Trouser\", \"Pullover\", \"Dress\", \"Coat\",\"Sandal\", \"Shirt\", \"Sneaker\", \"Bag\", \"Ankle boot\"]"
   ]
  },
  {
   "cell_type": "code",
   "execution_count": 7,
   "metadata": {
    "colab": {
     "base_uri": "https://localhost:8080/",
     "height": 299
    },
    "colab_type": "code",
    "id": "U2ZS3bxodIFi",
    "outputId": "06467029-04d4-4239-c853-707e12a7cb4b"
   },
   "outputs": [
    {
     "data": {
      "text/plain": [
       "Text(0.5, 1.0, '6')"
      ]
     },
     "execution_count": 7,
     "metadata": {},
     "output_type": "execute_result"
    },
    {
     "data": {
      "image/png": "[encoded data removed]",
      "text/plain": [
       "<Figure size 432x288 with 1 Axes>"
      ]
     },
     "metadata": {
      "needs_background": "light"
     },
     "output_type": "display_data"
    }
   ],
   "source": [
    "idx = np.random.randint(0,len(X_train))\n",
    "\n",
    "plt.imshow(X_train[idx], cmap='gray')\n",
    "plt.title(str(y_train[idx]))"
   ]
  },
  {
   "cell_type": "markdown",
   "metadata": {
    "colab_type": "text",
    "id": "5GWF6w3lLji5"
   },
   "source": [
    "<br>\n",
    "\n",
    "<br>\n",
    "\n",
    "## Creating the model"
   ]
  },
  {
   "cell_type": "code",
   "execution_count": 8,
   "metadata": {
    "colab": {},
    "colab_type": "code",
    "id": "fjYbfmgRJHtv"
   },
   "outputs": [],
   "source": [
    "model = tf.keras.models.Sequential()\n",
    "\n",
    "model.add(tf.keras.layers.Flatten(input_shape=(28,28)))\n",
    "\n",
    "model.add(tf.keras.layers.Dense(units=300, \n",
    "                                activation='relu',\n",
    "                                kernel_initializer='glorot_uniform'))\n",
    "\n",
    "model.add(tf.keras.layers.Dense(units=100, \n",
    "                                activation='relu', \n",
    "                                kernel_initializer='glorot_uniform'))\n",
    "\n",
    "model.add(tf.keras.layers.Dense(units=10,\n",
    "                                activation='softmax', \n",
    "                                kernel_initializer='glorot_uniform'))"
   ]
  },
  {
   "cell_type": "markdown",
   "metadata": {
    "colab_type": "text",
    "id": "sBU1GMEGM8fO"
   },
   "source": [
    "#### Observation\n",
    "- The first layer is *Flatten layer*. Its role is to convert the input image to 1 dimensional array which is numpy is np.reshape(-1,1)\n",
    "\n",
    "- The second and the third layers are Dense layer with 300 and 100 neurons respectively. They both use *ReLU* activation function.\n",
    "\n",
    "- The output layer is a Dense layer with 10 neurons using the *softmax* activation function"
   ]
  },
  {
   "cell_type": "code",
   "execution_count": 9,
   "metadata": {
    "colab": {
     "base_uri": "https://localhost:8080/",
     "height": 305
    },
    "colab_type": "code",
    "id": "TvnA7RiZJHwc",
    "outputId": "63439c08-a935-4a8b-8447-79d0817acb8b"
   },
   "outputs": [
    {
     "name": "stdout",
     "output_type": "stream",
     "text": [
      "Model: \"sequential\"\n",
      "_________________________________________________________________\n",
      "Layer (type)                 Output Shape              Param #   \n",
      "=================================================================\n",
      "flatten (Flatten)            (None, 784)               0         \n",
      "_________________________________________________________________\n",
      "dense (Dense)                (None, 300)               235500    \n",
      "_________________________________________________________________\n",
      "dense_1 (Dense)              (None, 100)               30100     \n",
      "_________________________________________________________________\n",
      "dense_2 (Dense)              (None, 10)                1010      \n",
      "=================================================================\n",
      "Total params: 266,610\n",
      "Trainable params: 266,610\n",
      "Non-trainable params: 0\n",
      "_________________________________________________________________\n"
     ]
    }
   ],
   "source": [
    "model.summary()"
   ]
  },
  {
   "cell_type": "markdown",
   "metadata": {
    "colab_type": "text",
    "id": "uKss7fRWOukU"
   },
   "source": [
    "<br>\n",
    "\n",
    "<br>\n",
    "\n",
    "Model's list of layers"
   ]
  },
  {
   "cell_type": "code",
   "execution_count": 10,
   "metadata": {
    "colab": {
     "base_uri": "https://localhost:8080/",
     "height": 89
    },
    "colab_type": "code",
    "id": "dMgvg1oQJHy8",
    "outputId": "2a309f1d-a86e-419a-f719-712c0a77df0e"
   },
   "outputs": [
    {
     "data": {
      "text/plain": [
       "[<tensorflow.python.keras.layers.core.Flatten at 0x7fbe137b2ad0>,\n",
       " <tensorflow.python.keras.layers.core.Dense at 0x7fbe137b2a90>,\n",
       " <tensorflow.python.keras.layers.core.Dense at 0x7fbe137bb350>,\n",
       " <tensorflow.python.keras.layers.core.Dense at 0x7fbe137c4550>]"
      ]
     },
     "execution_count": 10,
     "metadata": {},
     "output_type": "execute_result"
    }
   ],
   "source": [
    "model.layers"
   ]
  },
  {
   "cell_type": "markdown",
   "metadata": {
    "colab_type": "text",
    "id": "57lCCtFpO96j"
   },
   "source": [
    "<br>\n",
    "\n",
    "<br>\n",
    "\n",
    "#### Note:\n",
    "All the parameters of a layer can be accessed using *get_weights()* and\n",
    "*set_weights()* methods. \n"
   ]
  },
  {
   "cell_type": "code",
   "execution_count": 11,
   "metadata": {
    "colab": {
     "base_uri": "https://localhost:8080/",
     "height": 1000
    },
    "colab_type": "code",
    "id": "hdMTO3oWO62E",
    "outputId": "be63e695-c08f-42b0-d2bd-9546d3e09b75"
   },
   "outputs": [
    {
     "name": "stdout",
     "output_type": "stream",
     "text": [
      "[ 5.00014871e-02 -5.02444059e-02 -7.34335259e-02  6.52928799e-02\n",
      "  5.50970733e-02  5.34813255e-02  1.59709305e-02 -4.67728749e-02\n",
      "  6.69806898e-02  1.18714496e-02  4.42884117e-03  5.67918718e-02\n",
      "  6.69439137e-03 -1.24670863e-02 -5.09157106e-02 -3.20035219e-02\n",
      "  4.14916798e-02 -4.18273658e-02 -2.78518014e-02 -3.71890254e-02\n",
      " -8.94681364e-03 -7.32272863e-02 -2.94471271e-02 -3.02153714e-02\n",
      " -3.18471268e-02  1.83406919e-02  3.60241532e-03  1.62470043e-02\n",
      " -7.07082823e-02  5.87977767e-02 -6.09393716e-02 -9.10782069e-03\n",
      " -5.36624007e-02 -3.22459266e-02 -4.83712330e-02  3.18482816e-02\n",
      "  3.91408429e-02  2.47575939e-02  4.73662764e-02  6.84253275e-02\n",
      " -2.60180272e-02 -2.40000598e-02  2.50330567e-03 -6.40893504e-02\n",
      "  5.35882562e-02 -3.20806131e-02  3.39898765e-02  2.38758996e-02\n",
      "  6.57828599e-02 -8.82541388e-03 -6.90194964e-02  4.51090485e-02\n",
      "  6.88883066e-02 -6.51300848e-02  6.51363581e-02  7.07786828e-02\n",
      "  7.01242685e-03 -1.89812072e-02 -4.52985242e-02 -2.30012089e-02\n",
      "  6.23029321e-02  7.22153336e-02 -6.35203198e-02 -3.75166088e-02\n",
      " -5.52529097e-03  2.76745111e-02  2.47738063e-02 -4.25913185e-02\n",
      " -5.04902862e-02  3.29767466e-02  4.07408178e-02  5.38972020e-02\n",
      " -5.09560853e-02 -3.64347585e-02 -1.88213699e-02 -5.69181144e-03\n",
      "  2.35214829e-05 -5.55599779e-02 -2.11858451e-02 -3.25251035e-02\n",
      "  5.82441688e-04 -1.71861723e-02 -6.66178763e-04  6.39056265e-02\n",
      " -6.27789497e-02  6.39285892e-02  3.72049212e-02  3.42522934e-02\n",
      "  5.93635738e-02  5.44258952e-02  3.65686044e-02  2.01663449e-02\n",
      "  2.37184912e-02  3.88241187e-02 -4.85975891e-02 -9.83154029e-03\n",
      " -2.20326334e-02  6.98730052e-02 -6.29959553e-02 -6.40936419e-02\n",
      " -3.97811830e-02  3.97307724e-02 -2.16622129e-02 -7.37608224e-02\n",
      "  7.14780390e-03 -6.74737170e-02  2.10147351e-03  2.01837420e-02\n",
      " -6.59292638e-02 -6.46781921e-02 -3.14453468e-02  4.17973921e-02\n",
      "  4.20837700e-02  6.68557584e-02 -5.59494123e-02 -4.39615324e-02\n",
      "  2.37733200e-02 -8.06455314e-03 -1.25374347e-02 -6.04958721e-02\n",
      " -3.56769785e-02 -1.95495971e-02  1.30539238e-02  2.58992016e-02\n",
      "  1.23813376e-02 -1.78210810e-02  5.61651886e-02 -7.02683628e-03\n",
      "  5.83393723e-02  7.10181147e-02  7.49214739e-03  2.79283747e-02\n",
      "  5.86692244e-03 -1.43313706e-02 -4.45801020e-02  1.43969432e-02\n",
      " -5.97985610e-02  3.95305976e-02 -3.57755832e-02 -6.78022578e-02\n",
      " -1.99541822e-02 -1.48257054e-02 -1.46520697e-02 -1.27414390e-02\n",
      "  4.12403494e-02 -3.18547376e-02  9.71161574e-03  1.64491311e-02\n",
      "  7.06503838e-02  6.45173937e-02 -7.41776079e-03 -3.50397825e-02\n",
      "  7.07059354e-02 -5.86713217e-02  1.02363527e-04 -4.86769974e-02\n",
      " -7.28214979e-02  5.87546378e-02  2.73110121e-02  3.29383090e-02\n",
      "  4.29785177e-02  2.53018439e-02 -1.09499469e-02  2.32629478e-02\n",
      " -3.19726430e-02 -2.41200589e-02 -5.81686310e-02  6.30490035e-02\n",
      "  3.04521024e-02 -3.54652070e-02 -3.26780938e-02 -5.63954487e-02\n",
      "  1.09747797e-03  2.04732418e-02  4.26040217e-02 -4.23330069e-03\n",
      "  9.43898410e-03  1.85862035e-02 -6.36658594e-02  7.45891035e-03\n",
      " -3.46849523e-02  1.22374669e-02  1.61568224e-02 -7.31030107e-03\n",
      "  2.01644599e-02  3.13768089e-02 -7.19316453e-02 -3.38005796e-02\n",
      "  5.06741256e-02 -6.20410517e-02 -3.71598974e-02 -4.23513614e-02\n",
      "  7.28850514e-02 -1.05115771e-02  3.72885019e-02 -5.77197596e-02\n",
      "  5.05182073e-02  3.97954285e-02  3.04708630e-02 -2.37005763e-02\n",
      "  1.82286575e-02  5.67837507e-02 -2.85852775e-02 -2.50561535e-03\n",
      " -4.11429703e-02  5.43663949e-02  3.90648916e-02 -6.94086105e-02\n",
      "  3.13341618e-04  2.05048174e-03 -4.64785844e-02 -2.27989256e-02\n",
      " -1.67449601e-02  5.34204394e-02  3.69224772e-02 -3.16198170e-03\n",
      " -5.88035583e-02 -5.53923175e-02 -5.37050590e-02  5.55124432e-02\n",
      " -2.38073766e-02  1.27038658e-02  6.91029876e-02 -5.28689511e-02\n",
      "  4.38443199e-02 -9.59172845e-04 -6.05772883e-02  4.54667881e-02\n",
      " -3.77079844e-03  3.43132019e-03  4.85259965e-02  2.01034099e-02\n",
      " -6.71806931e-03 -2.92505361e-02  2.23939195e-02 -5.52525632e-02\n",
      "  7.26240426e-02  5.11436760e-02 -6.44543618e-02 -6.19768947e-02\n",
      " -2.49546245e-02  5.15323877e-03  5.68163395e-02  5.93420267e-02\n",
      " -1.26624852e-02 -3.05342264e-02  4.35856506e-02  7.10985214e-02\n",
      "  1.77398548e-02  2.33218521e-02  2.48784199e-02 -3.37142870e-02\n",
      " -5.08651957e-02 -5.46093173e-02 -6.19694106e-02 -2.67103687e-02\n",
      "  9.49010253e-04 -8.52747262e-03 -1.86348930e-02  8.30837339e-03\n",
      " -6.97618052e-02 -4.85921577e-02 -1.47611760e-02 -5.81569225e-02\n",
      " -6.84348941e-02  1.59510151e-02 -7.25156814e-02 -2.56256461e-02\n",
      " -5.07373363e-03  3.40732485e-02  6.72997534e-03  1.62316114e-02\n",
      "  9.46719199e-03 -1.67095028e-02  6.95672184e-02 -4.17083278e-02\n",
      "  5.00688180e-02  4.95934039e-02  1.54075250e-02 -5.38950153e-02\n",
      " -3.44006680e-02  1.63815618e-02 -4.23855968e-02  2.31298804e-02\n",
      " -2.41764300e-02  5.66369146e-02  6.04672730e-03  6.36994839e-02\n",
      "  8.80748034e-03  5.05437478e-02  7.17263073e-02  1.04387775e-02\n",
      " -3.43281925e-02  1.92304775e-02 -5.17519265e-02 -6.51417673e-03\n",
      " -7.33249560e-02 -6.69247806e-02 -1.08792111e-02  4.20532599e-02]\n",
      "\n",
      "[0. 0. 0. 0. 0. 0. 0. 0. 0. 0. 0. 0. 0. 0. 0. 0. 0. 0. 0. 0. 0. 0. 0. 0.\n",
      " 0. 0. 0. 0. 0. 0. 0. 0. 0. 0. 0. 0. 0. 0. 0. 0. 0. 0. 0. 0. 0. 0. 0. 0.\n",
      " 0. 0. 0. 0. 0. 0. 0. 0. 0. 0. 0. 0. 0. 0. 0. 0. 0. 0. 0. 0. 0. 0. 0. 0.\n",
      " 0. 0. 0. 0. 0. 0. 0. 0. 0. 0. 0. 0. 0. 0. 0. 0. 0. 0. 0. 0. 0. 0. 0. 0.\n",
      " 0. 0. 0. 0. 0. 0. 0. 0. 0. 0. 0. 0. 0. 0. 0. 0. 0. 0. 0. 0. 0. 0. 0. 0.\n",
      " 0. 0. 0. 0. 0. 0. 0. 0. 0. 0. 0. 0. 0. 0. 0. 0. 0. 0. 0. 0. 0. 0. 0. 0.\n",
      " 0. 0. 0. 0. 0. 0. 0. 0. 0. 0. 0. 0. 0. 0. 0. 0. 0. 0. 0. 0. 0. 0. 0. 0.\n",
      " 0. 0. 0. 0. 0. 0. 0. 0. 0. 0. 0. 0. 0. 0. 0. 0. 0. 0. 0. 0. 0. 0. 0. 0.\n",
      " 0. 0. 0. 0. 0. 0. 0. 0. 0. 0. 0. 0. 0. 0. 0. 0. 0. 0. 0. 0. 0. 0. 0. 0.\n",
      " 0. 0. 0. 0. 0. 0. 0. 0. 0. 0. 0. 0. 0. 0. 0. 0. 0. 0. 0. 0. 0. 0. 0. 0.\n",
      " 0. 0. 0. 0. 0. 0. 0. 0. 0. 0. 0. 0. 0. 0. 0. 0. 0. 0. 0. 0. 0. 0. 0. 0.\n",
      " 0. 0. 0. 0. 0. 0. 0. 0. 0. 0. 0. 0. 0. 0. 0. 0. 0. 0. 0. 0. 0. 0. 0. 0.\n",
      " 0. 0. 0. 0. 0. 0. 0. 0. 0. 0. 0. 0.]\n"
     ]
    }
   ],
   "source": [
    "weights, biases = model.layers[1].get_weights()\n",
    "\n",
    "# 300 weights of the first neuron out of 300 neurons in the first hidden layer.\n",
    "print(weights[0])  \n",
    "\n",
    "print()\n",
    "\n",
    "# 300 biases which are assigned to 300 neurons\n",
    "print(biases) "
   ]
  },
  {
   "cell_type": "code",
   "execution_count": 12,
   "metadata": {
    "colab": {
     "base_uri": "https://localhost:8080/",
     "height": 53
    },
    "colab_type": "code",
    "id": "06fQst2xRX2-",
    "outputId": "07fd1ae2-50c5-4729-ddf2-4fdd777ccf17"
   },
   "outputs": [
    {
     "name": "stdout",
     "output_type": "stream",
     "text": [
      "Weights shape: (784, 300)\n",
      "Biases shape: (300,)\n"
     ]
    }
   ],
   "source": [
    "print(f'Weights shape: {weights.shape}')\n",
    "print(f'Biases shape: {biases.shape}')"
   ]
  },
  {
   "cell_type": "code",
   "execution_count": 13,
   "metadata": {
    "colab": {
     "base_uri": "https://localhost:8080/",
     "height": 265
    },
    "colab_type": "code",
    "id": "D32bC3miJH4U",
    "outputId": "913ea5a1-f793-4b53-e479-9709ac7f6ebd"
   },
   "outputs": [
    {
     "data": {
      "image/png": "[encoded data removed]",
      "text/plain": [
       "<Figure size 432x288 with 1 Axes>"
      ]
     },
     "metadata": {
      "needs_background": "light"
     },
     "output_type": "display_data"
    }
   ],
   "source": [
    "# Data distribution of the weights\n",
    "sns.distplot(weights[0])\n",
    "\n",
    "plt.show()"
   ]
  },
  {
   "cell_type": "markdown",
   "metadata": {
    "colab_type": "text",
    "id": "yMSE-4pfQ-UF"
   },
   "source": [
    "#### Observation \n",
    "- We can notice the normal distribution in the weights."
   ]
  },
  {
   "cell_type": "markdown",
   "metadata": {
    "colab_type": "text",
    "id": "k9ukNyBmSVxo"
   },
   "source": [
    "## Compiling the model"
   ]
  },
  {
   "cell_type": "code",
   "execution_count": 14,
   "metadata": {
    "colab": {},
    "colab_type": "code",
    "id": "kuerXWZ9JH_q"
   },
   "outputs": [],
   "source": [
    "model.compile(loss='sparse_categorical_crossentropy', \n",
    "              optimizer=tf.keras.optimizers.SGD(), \n",
    "              metrics=['accuracy'])"
   ]
  },
  {
   "cell_type": "markdown",
   "metadata": {
    "colab_type": "text",
    "id": "Epff5oX0TjYT"
   },
   "source": [
    "#### Observation\n",
    "\n",
    "- **loss = 'sparse_categorical_crossentropy'** is equivalent to **loss = tf.keras.losses.sparse_categorical_crossentropy**. <br> **optimizer='sgd'** is equivalent to **optimizer=tf.keras.optimizers.SGD()**. <br> **metrics=['accuracy']** is equivalent to **metrics=[tf.keras.metrics.sparse_categorical_accuracy]**\n",
    "\n",
    "- We are using **sparse_categorical_crossentropy** for the loss function because the target variable is comprised of sparse labels. For instance, each y_train is between 0 and 9.<br> However if we had target probability for each label such as one-hot vector labels [0., 0., 0., 1., 0., 0., 0., 0., 0.] then we would have taken **categorical_crossentropy** as loss function instead.<br>In order to convert sparse labels to on-hot vector labels we should use **tf.keras.utils.to_categorical()** function.<br> In order to convert on-hot vector labels to sparse labels we **numpy.argmax(..., axis=1)** function.\n",
    "\n",
    "- For binary classification the activation function for the output layer would be **sigmoid** and we would use the **binary_crossentropy** as loss function."
   ]
  },
  {
   "cell_type": "code",
   "execution_count": 15,
   "metadata": {
    "colab": {
     "base_uri": "https://localhost:8080/",
     "height": 89
    },
    "colab_type": "code",
    "id": "cbqcFHDbSuAG",
    "outputId": "6d365abd-b92f-4c6b-e361-fb28e2d07101"
   },
   "outputs": [
    {
     "name": "stdout",
     "output_type": "stream",
     "text": [
      "Train on 55000 samples, validate on 5000 samples\n",
      "Epoch 1/100\n",
      "55000/55000 [==============================] - 5s 98us/sample - loss: 0.6949 - accuracy: 0.7706 - val_loss: 0.5521 - val_accuracy: 0.8084\n",
      "Epoch 2/100\n",
      "55000/55000 [==============================] - 4s 71us/sample - loss: 0.4851 - accuracy: 0.8300 - val_loss: 0.4364 - val_accuracy: 0.8536\n",
      "Epoch 3/100\n",
      "55000/55000 [==============================] - 4s 75us/sample - loss: 0.4397 - accuracy: 0.8457 - val_loss: 0.4192 - val_accuracy: 0.8596\n",
      "Epoch 4/100\n",
      "55000/55000 [==============================] - 4s 78us/sample - loss: 0.4131 - accuracy: 0.8565 - val_loss: 0.3885 - val_accuracy: 0.8658\n",
      "Epoch 5/100\n",
      "54976/55000 [============================>.] - ETA: 0s - loss: 0.3938 - accuracy: 0.8611\n",
      "Training is cancelled. We reached the point\n",
      "55000/55000 [==============================] - 4s 78us/sample - loss: 0.3938 - accuracy: 0.8611 - val_loss: 0.3778 - val_accuracy: 0.8708\n"
     ]
    }
   ],
   "source": [
    "BATCH_SIZE = 32\n",
    "EPOCHS = 100\n",
    "\n",
    "\n",
    "class Callback_MNIST(tf.keras.callbacks.Callback):  \n",
    "    def __init__(self, threshold):\n",
    "        super(Callback_MNIST, self).__init__()\n",
    "        self.threshold = threshold\n",
    "        \n",
    "    def on_epoch_end(self, epoch, logs={}):\n",
    "        if (logs.get('loss') <= self.threshold) and (logs.get('val_loss') <= self.threshold) :\n",
    "            print('\\nTraining is cancelled. We reached the point')\n",
    "            self.model.stop_training = True\n",
    "        \n",
    "\n",
    "callbacks = Callback_MNIST(threshold=0.4)\n",
    "\n",
    "# Write TensorBoard logs to `./jpt_sample_logs` directory\n",
    "tensorboard_callback = tf.keras.callbacks.TensorBoard(log_dir='jpt_sample_logs')\n",
    "\n",
    "\n",
    "history = model.fit(X_train, \n",
    "                    y_train, \n",
    "                    epochs=EPOCHS,\n",
    "                    batch_size= BATCH_SIZE, \n",
    "                    validation_data=(X_valid, y_valid),\n",
    "                    callbacks=[callbacks,tensorboard_callback])\n"
   ]
  },
  {
   "cell_type": "markdown",
   "metadata": {
    "colab_type": "text",
    "id": "lTE5DUvNeuZV"
   },
   "source": [
    "<br>\n",
    "\n",
    "#### Observation\n",
    "- We could have set **validation_split** instead of using using validation set\n",
    "  - *validation_split=0.1* tells keras to use 10% of training data as validation\n",
    "\n",
    "<br>"
   ]
  },
  {
   "cell_type": "code",
   "execution_count": 16,
   "metadata": {
    "colab": {},
    "colab_type": "code",
    "id": "8RRaBjAOSuDB"
   },
   "outputs": [
    {
     "data": {
      "image/png": "[encoded data removed]",
      "text/plain": [
       "<Figure size 576x432 with 1 Axes>"
      ]
     },
     "metadata": {
      "needs_background": "light"
     },
     "output_type": "display_data"
    }
   ],
   "source": [
    "pd.DataFrame(history.history).plot(figsize=(8, 6))\n",
    "plt.grid(True)\n",
    "plt.gca().set_ylim(0, 1) \n",
    "plt.legend(loc='best')\n",
    "\n",
    "plt.show()"
   ]
  },
  {
   "cell_type": "markdown",
   "metadata": {
    "colab_type": "text",
    "id": "1jmCnNcAfz2q"
   },
   "source": [
    "#### Observation\n",
    "- The validation and training curves are close to eachother whcih means there is not too much of a overfitting issue.\n",
    "\n",
    "- It seems that the training and validations loss keep decreasing which means we prabably need to train the model with more epochs to converge\n",
    "\n",
    "- we can tune the hyperparameters such as using a different optimizer with different learning rates. If it does not satisfy us we can modify the number of hidden layers, number of neurons per layers or even use a dfferent activation function for each hidden layer. We can also tune the number of batch_size."
   ]
  },
  {
   "cell_type": "code",
   "execution_count": 17,
   "metadata": {
    "colab": {},
    "colab_type": "code",
    "id": "WQMIkYjUSuIV"
   },
   "outputs": [
    {
     "data": {
      "text/html": [
       "\n",
       "      <iframe id=\"tensorboard-frame-33b6c6fb5b9d96fc\" width=\"100%\" height=\"800\" frameborder=\"0\">\n",
       "      </iframe>\n",
       "      <script>\n",
       "        (function() {\n",
       "          const frame = document.getElementById(\"tensorboard-frame-33b6c6fb5b9d96fc\");\n",
       "          const url = new URL(\"/\", window.location);\n",
       "          url.port = 6006;\n",
       "          frame.src = url;\n",
       "        })();\n",
       "      </script>\n",
       "  "
      ],
      "text/plain": [
       "<IPython.core.display.HTML object>"
      ]
     },
     "metadata": {},
     "output_type": "display_data"
    }
   ],
   "source": [
    "%tensorboard --logdir jpt_sample_logs"
   ]
  },
  {
   "cell_type": "markdown",
   "metadata": {
    "colab": {},
    "colab_type": "code",
    "id": "QfcdLCT_SuLr"
   },
   "source": [
    "<br>\n",
    "\n",
    "<br>\n",
    "\n",
    "## Evaluating the model"
   ]
  },
  {
   "cell_type": "code",
   "execution_count": 18,
   "metadata": {},
   "outputs": [
    {
     "name": "stdout",
     "output_type": "stream",
     "text": [
      "10000/10000 [==============================] - 0s 37us/sample - loss: 0.4188 - accuracy: 0.8541\n",
      "Model accuracy: 0.8540999889373779\n",
      "Model loss: 0.4187795454263687\n"
     ]
    }
   ],
   "source": [
    "evaluation = model.evaluate(X_test, y_test)\n",
    "\n",
    "print(f'Model accuracy: {evaluation[1]}')\n",
    "print(f'Model loss: {evaluation[0]}')"
   ]
  },
  {
   "cell_type": "markdown",
   "metadata": {},
   "source": [
    "<br>\n",
    "\n",
    "<br>\n",
    "\n",
    "## Model predcition"
   ]
  },
  {
   "cell_type": "code",
   "execution_count": 19,
   "metadata": {},
   "outputs": [],
   "source": [
    "X_new_images = X_test[:3]"
   ]
  },
  {
   "cell_type": "code",
   "execution_count": 27,
   "metadata": {},
   "outputs": [
    {
     "data": {
      "text/plain": [
       "array([[0.  , 0.  , 0.  , 0.  , 0.  , 0.04, 0.  , 0.09, 0.01, 0.87],\n",
       "       [0.  , 0.  , 0.94, 0.  , 0.01, 0.  , 0.06, 0.  , 0.  , 0.  ],\n",
       "       [0.  , 1.  , 0.  , 0.  , 0.  , 0.  , 0.  , 0.  , 0.  , 0.  ]],\n",
       "      dtype=float32)"
      ]
     },
     "execution_count": 27,
     "metadata": {},
     "output_type": "execute_result"
    }
   ],
   "source": [
    "y_proba = model.predict(X_new_images)\n",
    "\n",
    "y_proba.round(2)"
   ]
  },
  {
   "cell_type": "markdown",
   "metadata": {},
   "source": [
    "#### Observation\n",
    "- For each class, the predict one probability\n",
    "\n",
    "<br>"
   ]
  },
  {
   "cell_type": "code",
   "execution_count": 28,
   "metadata": {
    "colab": {},
    "colab_type": "code",
    "id": "BxZKanvhJH7b"
   },
   "outputs": [
    {
     "name": "stdout",
     "output_type": "stream",
     "text": [
      "[9 2 1]\n",
      "['Ankle boot' 'Pullover' 'Trouser']\n"
     ]
    }
   ],
   "source": [
    "X_pred_classes = model.predict_classes(X_new_images)\n",
    "\n",
    "print(X_pred_classes)\n",
    "print(np.array(class_names)[X_pred_classes])"
   ]
  },
  {
   "cell_type": "markdown",
   "metadata": {},
   "source": [
    "#### Observation\n",
    "- Print the class with the highest estimated probability among 9 different classes\n",
    "\n",
    "<br>"
   ]
  },
  {
   "cell_type": "code",
   "execution_count": 29,
   "metadata": {},
   "outputs": [
    {
     "name": "stdout",
     "output_type": "stream",
     "text": [
      "['Ankle boot' 'Pullover' 'Trouser'] \n",
      "\n"
     ]
    },
    {
     "data": {
      "image/png": "[encoded data removed]",
      "text/plain": [
       "<Figure size 864x720 with 3 Axes>"
      ]
     },
     "metadata": {
      "needs_background": "light"
     },
     "output_type": "display_data"
    }
   ],
   "source": [
    "plt.figure(figsize=(12,10))\n",
    "columns = 5\n",
    "\n",
    "print(np.array(class_names)[X_pred_classes], '\\n')\n",
    "\n",
    "for i,image in enumerate(X_new_images):\n",
    "    plt.subplot(len(X_new_images) / columns + 1, columns, i + 1)\n",
    "    plt.imshow(image, cmap='gray')"
   ]
  },
  {
   "cell_type": "markdown",
   "metadata": {},
   "source": [
    "---"
   ]
  }
 ],
 "metadata": {
  "accelerator": "GPU",
  "colab": {
   "name": "01_Fashion_MNIST.ipynb",
   "provenance": [],
   "toc_visible": true
  },
  "kernelspec": {
   "display_name": "Python 3",
   "language": "python",
   "name": "python3"
  },
  "language_info": {
   "codemirror_mode": {
    "name": "ipython",
    "version": 3
   },
   "file_extension": ".py",
   "mimetype": "text/x-python",
   "name": "python",
   "nbconvert_exporter": "python",
   "pygments_lexer": "ipython3",
   "version": "3.7.7"
  }
 },
 "nbformat": 4,
 "nbformat_minor": 4
}
