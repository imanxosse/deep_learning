{
 "cells": [
  {
   "cell_type": "markdown",
   "metadata": {
    "colab_type": "text",
    "id": "fpHbyk57H3Qi"
   },
   "source": [
    "# Fashion MNIST\n",
    "\n",
    "- For more information regarding the fashion_mnist dataset, check it out \n",
    "[here](https://www.kaggle.com/zalando-research/fashionmnist)\n"
   ]
  },
  {
   "cell_type": "markdown",
   "metadata": {
    "colab_type": "text",
    "id": "hzJ32aIxSf2A"
   },
   "source": [
    "## Loading the packages"
   ]
  },
  {
   "cell_type": "code",
   "execution_count": 1,
   "metadata": {
    "colab": {
     "base_uri": "https://localhost:8080/",
     "height": 53
    },
    "colab_type": "code",
    "id": "GX3Ol8BAH2gz",
    "outputId": "9654ae2c-9eb7-4d67-efab-7169c1745fc4"
   },
   "outputs": [],
   "source": [
    "import tensorflow as tf\n",
    "import numpy as np\n",
    "import pandas as pd\n",
    "import seaborn as sns\n",
    "import matplotlib.pyplot as plt\n",
    "import os\n",
    "\n",
    "%load_ext tensorboard\n",
    "%matplotlib inline"
   ]
  },
  {
   "cell_type": "code",
   "execution_count": 2,
   "metadata": {},
   "outputs": [],
   "source": [
    "# Clear any logs from previous runs\n",
    "!rm -r jpt_sample_logs\n",
    "\n",
    "# Create \"jpt_sample_logs\" folder if is not existed\n",
    "if not os.path.exists('jpt_sample_logs'):\n",
    "    os.makedirs('jpt_sample_logs')"
   ]
  },
  {
   "cell_type": "code",
   "execution_count": 3,
   "metadata": {
    "colab": {},
    "colab_type": "code",
    "id": "hcn53oK0H2kC"
   },
   "outputs": [],
   "source": [
    "(X_train_full, y_train_full), (X_test, y_test) = tf.keras.datasets.fashion_mnist.load_data()"
   ]
  },
  {
   "cell_type": "code",
   "execution_count": 4,
   "metadata": {
    "colab": {
     "base_uri": "https://localhost:8080/",
     "height": 53
    },
    "colab_type": "code",
    "id": "IuTzuNXdH2mz",
    "outputId": "1e70059d-c167-49d8-e68e-4b5a959a597b"
   },
   "outputs": [
    {
     "name": "stdout",
     "output_type": "stream",
     "text": [
      "(60000, 28, 28)\n",
      "(10000, 28, 28)\n"
     ]
    }
   ],
   "source": [
    "print(X_train_full.shape)\n",
    "print(X_test.shape)"
   ]
  },
  {
   "cell_type": "markdown",
   "metadata": {
    "colab_type": "text",
    "id": "ZQiGuDC5Iqjw"
   },
   "source": [
    "#### Observation \n",
    "- The dataset is split into training and test, however there is validation dataset, so, let's create a validation dataset"
   ]
  },
  {
   "cell_type": "code",
   "execution_count": 5,
   "metadata": {
    "colab": {},
    "colab_type": "code",
    "id": "Mg_z2GzzH2ps"
   },
   "outputs": [],
   "source": [
    "X_valid, X_train = X_train_full[:5000] / 255.0, X_train_full[5000:] / 255.0\n",
    "y_valid, y_train = y_train_full[:5000], y_train_full[5000:]"
   ]
  },
  {
   "cell_type": "code",
   "execution_count": 6,
   "metadata": {
    "colab": {},
    "colab_type": "code",
    "id": "RLpKU-LUJHrB"
   },
   "outputs": [],
   "source": [
    "class_names = [\"T-shirt/top\", \"Trouser\", \"Pullover\", \"Dress\", \"Coat\",\"Sandal\", \"Shirt\", \"Sneaker\", \"Bag\", \"Ankle boot\"]"
   ]
  },
  {
   "cell_type": "code",
   "execution_count": 7,
   "metadata": {
    "colab": {
     "base_uri": "https://localhost:8080/",
     "height": 299
    },
    "colab_type": "code",
    "id": "U2ZS3bxodIFi",
    "outputId": "06467029-04d4-4239-c853-707e12a7cb4b"
   },
   "outputs": [
    {
     "data": {
      "text/plain": [
       "Text(0.5, 1.0, '1')"
      ]
     },
     "execution_count": 7,
     "metadata": {},
     "output_type": "execute_result"
    },
    {
     "data": {
      "image/png": "[encoded data removed]",
      "text/plain": [
       "<Figure size 432x288 with 1 Axes>"
      ]
     },
     "metadata": {
      "needs_background": "light"
     },
     "output_type": "display_data"
    }
   ],
   "source": [
    "idx = np.random.randint(0,len(X_train))\n",
    "\n",
    "plt.imshow(X_train[idx], cmap='gray')\n",
    "plt.title(str(y_train[idx]))"
   ]
  },
  {
   "cell_type": "markdown",
   "metadata": {
    "colab_type": "text",
    "id": "5GWF6w3lLji5"
   },
   "source": [
    "<br>\n",
    "\n",
    "<br>\n",
    "\n",
    "## Creating the model"
   ]
  },
  {
   "cell_type": "code",
   "execution_count": 8,
   "metadata": {
    "colab": {},
    "colab_type": "code",
    "id": "fjYbfmgRJHtv"
   },
   "outputs": [],
   "source": [
    "model = tf.keras.models.Sequential()\n",
    "\n",
    "model.add(tf.keras.layers.Flatten(input_shape=(28,28)))\n",
    "\n",
    "model.add(tf.keras.layers.Dense(units=300, \n",
    "                                activation='relu',\n",
    "                                kernel_initializer='glorot_uniform'))\n",
    "\n",
    "model.add(tf.keras.layers.Dense(units=100, \n",
    "                                activation='relu', \n",
    "                                kernel_initializer='glorot_uniform'))\n",
    "\n",
    "model.add(tf.keras.layers.Dense(units=10,\n",
    "                                activation='softmax', \n",
    "                                kernel_initializer='glorot_uniform'))"
   ]
  },
  {
   "cell_type": "markdown",
   "metadata": {
    "colab_type": "text",
    "id": "sBU1GMEGM8fO"
   },
   "source": [
    "#### Observation\n",
    "- The first layer is *Flatten layer*. Its role is to convert the input image to 1 dimensional array which is numpy is np.reshape(-1,1)\n",
    "\n",
    "- The second and the third layers are Dense layer with 300 and 100 neurons respectively. They both use *ReLU* activation function.\n",
    "\n",
    "- The output layer is a Dense layer with 10 neurons using the *softmax* activation function"
   ]
  },
  {
   "cell_type": "code",
   "execution_count": 9,
   "metadata": {
    "colab": {
     "base_uri": "https://localhost:8080/",
     "height": 305
    },
    "colab_type": "code",
    "id": "TvnA7RiZJHwc",
    "outputId": "63439c08-a935-4a8b-8447-79d0817acb8b"
   },
   "outputs": [
    {
     "name": "stdout",
     "output_type": "stream",
     "text": [
      "Model: \"sequential\"\n",
      "_________________________________________________________________\n",
      "Layer (type)                 Output Shape              Param #   \n",
      "=================================================================\n",
      "flatten (Flatten)            (None, 784)               0         \n",
      "_________________________________________________________________\n",
      "dense (Dense)                (None, 300)               235500    \n",
      "_________________________________________________________________\n",
      "dense_1 (Dense)              (None, 100)               30100     \n",
      "_________________________________________________________________\n",
      "dense_2 (Dense)              (None, 10)                1010      \n",
      "=================================================================\n",
      "Total params: 266,610\n",
      "Trainable params: 266,610\n",
      "Non-trainable params: 0\n",
      "_________________________________________________________________\n"
     ]
    }
   ],
   "source": [
    "model.summary()"
   ]
  },
  {
   "cell_type": "markdown",
   "metadata": {
    "colab_type": "text",
    "id": "uKss7fRWOukU"
   },
   "source": [
    "<br>\n",
    "\n",
    "<br>\n",
    "\n",
    "Model's list of layers"
   ]
  },
  {
   "cell_type": "code",
   "execution_count": 10,
   "metadata": {
    "colab": {
     "base_uri": "https://localhost:8080/",
     "height": 89
    },
    "colab_type": "code",
    "id": "dMgvg1oQJHy8",
    "outputId": "2a309f1d-a86e-419a-f719-712c0a77df0e"
   },
   "outputs": [
    {
     "data": {
      "text/plain": [
       "[<tensorflow.python.keras.layers.core.Flatten at 0x7efe2cb61b50>,\n",
       " <tensorflow.python.keras.layers.core.Dense at 0x7efe2cb84490>,\n",
       " <tensorflow.python.keras.layers.core.Dense at 0x7efe488cc4d0>,\n",
       " <tensorflow.python.keras.layers.core.Dense at 0x7efe2c2ea090>]"
      ]
     },
     "execution_count": 10,
     "metadata": {},
     "output_type": "execute_result"
    }
   ],
   "source": [
    "model.layers"
   ]
  },
  {
   "cell_type": "markdown",
   "metadata": {
    "colab_type": "text",
    "id": "57lCCtFpO96j"
   },
   "source": [
    "<br>\n",
    "\n",
    "<br>\n",
    "\n",
    "#### Note:\n",
    "All the parameters of a layer can be accessed using *get_weights()* and\n",
    "*set_weights()* methods. \n"
   ]
  },
  {
   "cell_type": "code",
   "execution_count": 11,
   "metadata": {
    "colab": {
     "base_uri": "https://localhost:8080/",
     "height": 1000
    },
    "colab_type": "code",
    "id": "hdMTO3oWO62E",
    "outputId": "be63e695-c08f-42b0-d2bd-9546d3e09b75"
   },
   "outputs": [
    {
     "name": "stdout",
     "output_type": "stream",
     "text": [
      "[-0.01959572 -0.05480942  0.00816491  0.03328742 -0.01817099 -0.07266098\n",
      " -0.03605231 -0.06622091  0.04576269  0.05766647  0.03559707  0.06410255\n",
      "  0.00308711  0.02045221 -0.04659089 -0.04616223 -0.02571939  0.06623669\n",
      "  0.01491754 -0.0371921  -0.01570508  0.05554214 -0.01617274 -0.02398963\n",
      " -0.00767066  0.05114624 -0.06165357 -0.00122835 -0.00560296 -0.06545995\n",
      " -0.00403234 -0.04717058 -0.02625121  0.01040258  0.04172968  0.04490029\n",
      "  0.04849758  0.0006806  -0.04319091  0.04910111  0.05803427 -0.01394702\n",
      "  0.007275    0.04787105 -0.06811189 -0.00748516  0.01302473 -0.06830347\n",
      " -0.02097201  0.06809282  0.03349105 -0.04887783  0.00298712  0.02620569\n",
      " -0.06176131 -0.04437803  0.02297733  0.01504566  0.00784402  0.0119692\n",
      " -0.01081372 -0.0729669   0.02329993 -0.01646781  0.03414727 -0.01181015\n",
      "  0.01894919  0.00511961  0.03697596 -0.05902471  0.01467937 -0.0109368\n",
      "  0.04476305 -0.04509548  0.03288091  0.06006669 -0.05117936  0.03033822\n",
      " -0.0723857   0.05063677 -0.00429948  0.02874377  0.06367116 -0.03510538\n",
      "  0.06224701  0.03479062  0.0422145  -0.01457211 -0.05633987 -0.03351897\n",
      " -0.04154713  0.06144363 -0.01073754  0.02260152 -0.01945229 -0.02665602\n",
      "  0.01035649 -0.00065901 -0.05779482 -0.07215872  0.01846267  0.04694951\n",
      " -0.03225079  0.00643405  0.03292666  0.00514895  0.05410962  0.03709356\n",
      "  0.07425086 -0.05994795  0.00329294 -0.06702374  0.01747966 -0.04862943\n",
      "  0.0623593  -0.02339813 -0.04200299 -0.05628264 -0.01341879  0.00236552\n",
      "  0.05787043  0.00291928  0.00814816 -0.06718806  0.06588089 -0.07092246\n",
      "  0.03787732 -0.02227158  0.04236067  0.05801164  0.0554308   0.05753769\n",
      "  0.06243558  0.04842295 -0.03162464  0.01906183 -0.05117456 -0.02689337\n",
      "  0.00656977  0.02468937  0.00955343 -0.06038851 -0.04633754 -0.02125502\n",
      " -0.04642603  0.04341552 -0.02866708  0.0564108   0.06151447  0.0342764\n",
      " -0.02565479 -0.01495209  0.00052359  0.02110834 -0.027139    0.03146092\n",
      "  0.07111321  0.00340247 -0.02145626 -0.05814251 -0.04009417 -0.01398467\n",
      "  0.01902096 -0.04104412  0.03120452  0.07402323 -0.05123261 -0.037588\n",
      "  0.06057976  0.030604   -0.04500585 -0.06613041 -0.02410448 -0.01744566\n",
      "  0.06571481 -0.07401305  0.06982027 -0.01010524 -0.06921951 -0.06160861\n",
      "  0.02046639 -0.03227066 -0.05284268 -0.05525723 -0.0054482   0.00843611\n",
      " -0.02339034  0.05752021  0.02465554  0.02623386 -0.02354024 -0.01953674\n",
      "  0.02151485 -0.02770257 -0.06083543  0.04058708 -0.03845668  0.05594595\n",
      "  0.04628035  0.02562661 -0.06114575  0.01534897  0.04322106 -0.04256643\n",
      " -0.03789203 -0.01786727 -0.03095846  0.02204952  0.04756801  0.06630087\n",
      " -0.01621568 -0.00028315 -0.04776944  0.04177305 -0.06032995  0.06087863\n",
      "  0.05926341 -0.01770236 -0.0661788   0.07223333  0.01447432  0.04007756\n",
      "  0.01774337 -0.03761729 -0.00060573 -0.03384033  0.04785544 -0.07272985\n",
      "  0.07076047  0.00252271 -0.06051303  0.04862285  0.06614088 -0.04355323\n",
      " -0.03754332 -0.04646552  0.02671463  0.0540874   0.02586064  0.00151528\n",
      " -0.00973086 -0.01562405 -0.0590715  -0.03082867  0.01005905  0.015194\n",
      "  0.03140581 -0.07166903  0.05665204 -0.07155582  0.0288426  -0.02394951\n",
      "  0.06437074  0.0078598  -0.05510247 -0.03839942 -0.03134501  0.01652549\n",
      " -0.06713976  0.00727461 -0.0717038   0.06158803 -0.05682912  0.06984663\n",
      " -0.06700075  0.00197589 -0.0109977  -0.00409593  0.01179351  0.02309007\n",
      "  0.05119178  0.00550448  0.04136249 -0.03597638  0.0134625  -0.05743512\n",
      " -0.04803054 -0.02265686 -0.01519485  0.07008611 -0.07368515  0.06037694\n",
      " -0.01670716 -0.02552772  0.07428759  0.07202454 -0.03133127  0.06263098\n",
      "  0.00559198  0.0287018  -0.0205749  -0.06803256 -0.04600397  0.01979649\n",
      " -0.05601804  0.04290584 -0.06554763  0.00135358 -0.01082125  0.00135927]\n",
      "\n",
      "[0. 0. 0. 0. 0. 0. 0. 0. 0. 0. 0. 0. 0. 0. 0. 0. 0. 0. 0. 0. 0. 0. 0. 0.\n",
      " 0. 0. 0. 0. 0. 0. 0. 0. 0. 0. 0. 0. 0. 0. 0. 0. 0. 0. 0. 0. 0. 0. 0. 0.\n",
      " 0. 0. 0. 0. 0. 0. 0. 0. 0. 0. 0. 0. 0. 0. 0. 0. 0. 0. 0. 0. 0. 0. 0. 0.\n",
      " 0. 0. 0. 0. 0. 0. 0. 0. 0. 0. 0. 0. 0. 0. 0. 0. 0. 0. 0. 0. 0. 0. 0. 0.\n",
      " 0. 0. 0. 0. 0. 0. 0. 0. 0. 0. 0. 0. 0. 0. 0. 0. 0. 0. 0. 0. 0. 0. 0. 0.\n",
      " 0. 0. 0. 0. 0. 0. 0. 0. 0. 0. 0. 0. 0. 0. 0. 0. 0. 0. 0. 0. 0. 0. 0. 0.\n",
      " 0. 0. 0. 0. 0. 0. 0. 0. 0. 0. 0. 0. 0. 0. 0. 0. 0. 0. 0. 0. 0. 0. 0. 0.\n",
      " 0. 0. 0. 0. 0. 0. 0. 0. 0. 0. 0. 0. 0. 0. 0. 0. 0. 0. 0. 0. 0. 0. 0. 0.\n",
      " 0. 0. 0. 0. 0. 0. 0. 0. 0. 0. 0. 0. 0. 0. 0. 0. 0. 0. 0. 0. 0. 0. 0. 0.\n",
      " 0. 0. 0. 0. 0. 0. 0. 0. 0. 0. 0. 0. 0. 0. 0. 0. 0. 0. 0. 0. 0. 0. 0. 0.\n",
      " 0. 0. 0. 0. 0. 0. 0. 0. 0. 0. 0. 0. 0. 0. 0. 0. 0. 0. 0. 0. 0. 0. 0. 0.\n",
      " 0. 0. 0. 0. 0. 0. 0. 0. 0. 0. 0. 0. 0. 0. 0. 0. 0. 0. 0. 0. 0. 0. 0. 0.\n",
      " 0. 0. 0. 0. 0. 0. 0. 0. 0. 0. 0. 0.]\n"
     ]
    }
   ],
   "source": [
    "weights, biases = model.layers[1].get_weights()\n",
    "\n",
    "# 300 weights of the first neuron out of 300 neurons in the first hidden layer.\n",
    "print(weights[0])  \n",
    "\n",
    "print()\n",
    "\n",
    "# 300 biases which are assigned to 300 neurons\n",
    "print(biases) "
   ]
  },
  {
   "cell_type": "code",
   "execution_count": 12,
   "metadata": {
    "colab": {
     "base_uri": "https://localhost:8080/",
     "height": 53
    },
    "colab_type": "code",
    "id": "06fQst2xRX2-",
    "outputId": "07fd1ae2-50c5-4729-ddf2-4fdd777ccf17"
   },
   "outputs": [
    {
     "name": "stdout",
     "output_type": "stream",
     "text": [
      "Weights shape: (784, 300)\n",
      "Biases shape: (300,)\n"
     ]
    }
   ],
   "source": [
    "print(f'Weights shape: {weights.shape}')\n",
    "print(f'Biases shape: {biases.shape}')"
   ]
  },
  {
   "cell_type": "code",
   "execution_count": 13,
   "metadata": {
    "colab": {
     "base_uri": "https://localhost:8080/",
     "height": 265
    },
    "colab_type": "code",
    "id": "D32bC3miJH4U",
    "outputId": "913ea5a1-f793-4b53-e479-9709ac7f6ebd"
   },
   "outputs": [
    {
     "data": {
      "image/png": "[encoded data removed]",
      "text/plain": [
       "<Figure size 432x288 with 1 Axes>"
      ]
     },
     "metadata": {
      "needs_background": "light"
     },
     "output_type": "display_data"
    }
   ],
   "source": [
    "# Data distribution of the weights\n",
    "sns.distplot(weights[0])\n",
    "\n",
    "plt.show()"
   ]
  },
  {
   "cell_type": "markdown",
   "metadata": {
    "colab_type": "text",
    "id": "yMSE-4pfQ-UF"
   },
   "source": [
    "#### Observation \n",
    "- We can notice the normal distribution in the weights."
   ]
  },
  {
   "cell_type": "markdown",
   "metadata": {
    "colab_type": "text",
    "id": "k9ukNyBmSVxo"
   },
   "source": [
    "## Compiling the model"
   ]
  },
  {
   "cell_type": "code",
   "execution_count": 14,
   "metadata": {
    "colab": {},
    "colab_type": "code",
    "id": "kuerXWZ9JH_q"
   },
   "outputs": [],
   "source": [
    "model.compile(loss='sparse_categorical_crossentropy', \n",
    "              optimizer=tf.keras.optimizers.SGD(), \n",
    "              metrics=['accuracy'])"
   ]
  },
  {
   "cell_type": "markdown",
   "metadata": {
    "colab_type": "text",
    "id": "Epff5oX0TjYT"
   },
   "source": [
    "#### Observation\n",
    "\n",
    "- **loss = 'sparse_categorical_crossentropy'** is equivalent to **loss = tf.keras.losses.sparse_categorical_crossentropy**. <br> **optimizer='sgd'** is equivalent to **optimizer=tf.keras.optimizers.SGD()**. <br> **metrics=['accuracy']** is equivalent to **metrics=[tf.keras.metrics.sparse_categorical_accuracy]**\n",
    "\n",
    "- We are using **sparse_categorical_crossentropy** for the loss function because the target variable is comprised of sparse labels. For instance, each y_train is between 0 and 9.<br> However if we had target probability for each label such as one-hot vector labels [0., 0., 0., 1., 0., 0., 0., 0., 0.] then we would have taken **categorical_crossentropy** as loss function instead.<br>In order to convert sparse labels to on-hot vector labels we should use **tf.keras.utils.to_categorical()** function.<br> In order to convert on-hot vector labels to sparse labels we **numpy.argmax(..., axis=1)** function.\n",
    "\n",
    "- For binary classification the activation function for the output layer would be **sigmoid** and we would use the **binary_crossentropy** as loss function."
   ]
  },
  {
   "cell_type": "code",
   "execution_count": 15,
   "metadata": {
    "colab": {
     "base_uri": "https://localhost:8080/",
     "height": 89
    },
    "colab_type": "code",
    "id": "cbqcFHDbSuAG",
    "outputId": "6d365abd-b92f-4c6b-e361-fb28e2d07101"
   },
   "outputs": [
    {
     "name": "stdout",
     "output_type": "stream",
     "text": [
      "Train on 55000 samples, validate on 5000 samples\n",
      "Epoch 1/100\n",
      "55000/55000 [==============================] - 4s 77us/sample - loss: 0.7043 - accuracy: 0.7687 - val_loss: 0.5256 - val_accuracy: 0.8246\n",
      "Epoch 2/100\n",
      "55000/55000 [==============================] - 4s 72us/sample - loss: 0.4841 - accuracy: 0.8316 - val_loss: 0.4415 - val_accuracy: 0.8496\n",
      "Epoch 3/100\n",
      "55000/55000 [==============================] - 4s 72us/sample - loss: 0.4393 - accuracy: 0.8453 - val_loss: 0.4119 - val_accuracy: 0.8524\n",
      "Epoch 4/100\n",
      "55000/55000 [==============================] - 4s 77us/sample - loss: 0.4135 - accuracy: 0.8546 - val_loss: 0.3971 - val_accuracy: 0.8602\n",
      "Epoch 5/100\n",
      "54432/55000 [============================>.] - ETA: 0s - loss: 0.3933 - accuracy: 0.8620\n",
      "Training is cancelled. We reached the point\n",
      "55000/55000 [==============================] - 4s 70us/sample - loss: 0.3927 - accuracy: 0.8622 - val_loss: 0.3792 - val_accuracy: 0.8670\n"
     ]
    }
   ],
   "source": [
    "BATCH_SIZE = 32\n",
    "EPOCHS = 100\n",
    "\n",
    "\n",
    "class Callback_MNIST(tf.keras.callbacks.Callback):  \n",
    "    def __init__(self, threshold):\n",
    "        super(Callback_MNIST, self).__init__()\n",
    "        self.threshold = threshold\n",
    "        \n",
    "    def on_epoch_end(self, epoch, logs={}):\n",
    "        if (logs.get('loss') <= self.threshold) and (logs.get('val_loss') <= self.threshold) :\n",
    "            print('\\nTraining is cancelled. We reached the point')\n",
    "            self.model.stop_training = True\n",
    "        \n",
    "\n",
    "callbacks = Callback_MNIST(threshold=0.4)\n",
    "\n",
    "# Write TensorBoard logs to `./jpt_sample_logs` directory\n",
    "tensorboard_callback = tf.keras.callbacks.TensorBoard(log_dir='jpt_sample_logs')\n",
    "\n",
    "\n",
    "history = model.fit(X_train, \n",
    "                    y_train, \n",
    "                    epochs=EPOCHS,\n",
    "                    batch_size= BATCH_SIZE, \n",
    "                    validation_data=(X_valid, y_valid),\n",
    "                    callbacks=[callbacks,tensorboard_callback])\n"
   ]
  },
  {
   "cell_type": "markdown",
   "metadata": {
    "colab_type": "text",
    "id": "lTE5DUvNeuZV"
   },
   "source": [
    "#### Observation\n",
    "- We could have set **validation_split** instead of using using validation set\n",
    "  - validation_split=0.1 tells keras to use 10% of training data as validation\n"
   ]
  },
  {
   "cell_type": "code",
   "execution_count": 16,
   "metadata": {
    "colab": {},
    "colab_type": "code",
    "id": "8RRaBjAOSuDB"
   },
   "outputs": [
    {
     "data": {
      "image/png": "[encoded data removed]",
      "text/plain": [
       "<Figure size 576x432 with 1 Axes>"
      ]
     },
     "metadata": {
      "needs_background": "light"
     },
     "output_type": "display_data"
    }
   ],
   "source": [
    "pd.DataFrame(history.history).plot(figsize=(8, 6))\n",
    "plt.grid(True)\n",
    "plt.gca().set_ylim(0, 1) \n",
    "plt.legend(loc='best')\n",
    "\n",
    "plt.show()"
   ]
  },
  {
   "cell_type": "markdown",
   "metadata": {
    "colab_type": "text",
    "id": "1jmCnNcAfz2q"
   },
   "source": [
    "#### Observation\n",
    "- The validation and training curves are close to eachother whcih means there is not too much of a overfitting issue.\n",
    "\n",
    "- It seems that the training and validations loss keep decreasing which means we prabably need to train the model with more epochs to converge\n",
    "\n",
    "- we can tune the hyperparameters such as using a different optimizer with different learning rates. If it does not satisfy us we can modify the number of hidden layers, number of neurons per layers or even use a dfferent activation function for each hidden layer. We can also tune the number of batch_size."
   ]
  },
  {
   "cell_type": "code",
   "execution_count": 17,
   "metadata": {
    "colab": {},
    "colab_type": "code",
    "id": "WQMIkYjUSuIV"
   },
   "outputs": [
    {
     "data": {
      "text/html": [
       "\n",
       "      <iframe id=\"tensorboard-frame-acb8bfc03333829e\" width=\"100%\" height=\"800\" frameborder=\"0\">\n",
       "      </iframe>\n",
       "      <script>\n",
       "        (function() {\n",
       "          const frame = document.getElementById(\"tensorboard-frame-acb8bfc03333829e\");\n",
       "          const url = new URL(\"/\", window.location);\n",
       "          url.port = 6006;\n",
       "          frame.src = url;\n",
       "        })();\n",
       "      </script>\n",
       "  "
      ],
      "text/plain": [
       "<IPython.core.display.HTML object>"
      ]
     },
     "metadata": {},
     "output_type": "display_data"
    }
   ],
   "source": [
    "%tensorboard --logdir jpt_sample_logs"
   ]
  },
  {
   "cell_type": "markdown",
   "metadata": {
    "colab": {},
    "colab_type": "code",
    "id": "QfcdLCT_SuLr"
   },
   "source": [
    "<br>\n",
    "\n",
    "<br>\n",
    "\n",
    "## Evaluating the model"
   ]
  },
  {
   "cell_type": "code",
   "execution_count": 26,
   "metadata": {},
   "outputs": [
    {
     "name": "stdout",
     "output_type": "stream",
     "text": [
      "10000/10000 [==============================] - 0s 37us/sample - loss: 76.0866 - accuracy: 0.8155\n",
      "Model accuracy: 0.815500020980835\n",
      "Model loss: 76.08656077880859\n"
     ]
    }
   ],
   "source": [
    "evaluation = model.evaluate(X_test, y_test)\n",
    "\n",
    "print(f'Model accuracy: {evaluation[1]}')\n",
    "print(f'Model loss: {evaluation[0]}')"
   ]
  },
  {
   "cell_type": "markdown",
   "metadata": {},
   "source": [
    "<br>\n",
    "\n",
    "<br>\n",
    "\n",
    "## Model predcition"
   ]
  },
  {
   "cell_type": "code",
   "execution_count": 46,
   "metadata": {},
   "outputs": [],
   "source": [
    "X_new_images = X_test[:3]"
   ]
  },
  {
   "cell_type": "code",
   "execution_count": 47,
   "metadata": {},
   "outputs": [
    {
     "data": {
      "text/plain": [
       "array([[0., 0., 0., 0., 0., 0., 0., 0., 0., 1.],\n",
       "       [0., 0., 1., 0., 0., 0., 0., 0., 0., 0.],\n",
       "       [0., 1., 0., 0., 0., 0., 0., 0., 0., 0.]], dtype=float32)"
      ]
     },
     "execution_count": 47,
     "metadata": {},
     "output_type": "execute_result"
    }
   ],
   "source": [
    "y_proba = model.predict(X_new_images)\n",
    "\n",
    "y_proba"
   ]
  },
  {
   "cell_type": "markdown",
   "metadata": {},
   "source": [
    "#### Observation\n",
    "- For each class, the predict one probability\n",
    "\n",
    "<br>"
   ]
  },
  {
   "cell_type": "code",
   "execution_count": 48,
   "metadata": {
    "colab": {},
    "colab_type": "code",
    "id": "BxZKanvhJH7b"
   },
   "outputs": [
    {
     "name": "stdout",
     "output_type": "stream",
     "text": [
      "[9 2 1]\n",
      "['Ankle boot' 'Pullover' 'Trouser']\n"
     ]
    }
   ],
   "source": [
    "X_pred_classes = model.predict_classes(X_new_images)\n",
    "\n",
    "print(X_pred_classes)\n",
    "print(np.array(class_names)[X_pred_classes])"
   ]
  },
  {
   "cell_type": "markdown",
   "metadata": {},
   "source": [
    "#### Observation\n",
    "- Print the class with the highest estimated probability among 9 different classes\n",
    "\n",
    "<br>"
   ]
  },
  {
   "cell_type": "code",
   "execution_count": 64,
   "metadata": {},
   "outputs": [
    {
     "name": "stdout",
     "output_type": "stream",
     "text": [
      "['Ankle boot' 'Pullover' 'Trouser'] \n",
      "\n"
     ]
    },
    {
     "data": {
      "image/png": "[encoded data removed]",
      "text/plain": [
       "<Figure size 864x720 with 3 Axes>"
      ]
     },
     "metadata": {
      "needs_background": "light"
     },
     "output_type": "display_data"
    }
   ],
   "source": [
    "plt.figure(figsize=(12,10))\n",
    "columns = 5\n",
    "\n",
    "print(np.array(class_names)[X_pred_classes], '\\n')\n",
    "\n",
    "for i,image in enumerate(X_new_images):\n",
    "    plt.subplot(len(X_new_images) / columns + 1, columns, i + 1)\n",
    "    plt.imshow(image, cmap='gray')"
   ]
  },
  {
   "cell_type": "markdown",
   "metadata": {},
   "source": [
    "---"
   ]
  }
 ],
 "metadata": {
  "accelerator": "GPU",
  "colab": {
   "name": "01_Fashion_MNIST.ipynb",
   "provenance": [],
   "toc_visible": true
  },
  "kernelspec": {
   "display_name": "Python 3",
   "language": "python",
   "name": "python3"
  },
  "language_info": {
   "codemirror_mode": {
    "name": "ipython",
    "version": 3
   },
   "file_extension": ".py",
   "mimetype": "text/x-python",
   "name": "python",
   "nbconvert_exporter": "python",
   "pygments_lexer": "ipython3",
   "version": "3.7.7"
  }
 },
 "nbformat": 4,
 "nbformat_minor": 4
}
