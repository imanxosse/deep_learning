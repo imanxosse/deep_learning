{
 "cells": [
  {
   "cell_type": "markdown",
   "metadata": {},
   "source": [
    "# Dense Sentiment Classifier\n",
    "\n",
    "We're going to classify IMDB reviews by their sentiment.\n",
    "\n",
    "<br>\n",
    "\n",
    "<br>\n",
    "\n",
    "## Load dependencies"
   ]
  },
  {
   "cell_type": "code",
   "execution_count": 1,
   "metadata": {},
   "outputs": [],
   "source": [
    "import tensorflow as tf\n",
    "from sklearn.metrics import roc_auc_score, roc_curve, auc\n",
    "import pandas as pd\n",
    "import numpy as np\n",
    "import os\n",
    "import matplotlib.pyplot as plt\n",
    "\n",
    "%matplotlib inline"
   ]
  },
  {
   "cell_type": "markdown",
   "metadata": {},
   "source": [
    "<br>\n",
    "\n",
    "<br>\n",
    "\n",
    "## Set hyperparameters"
   ]
  },
  {
   "cell_type": "code",
   "execution_count": 2,
   "metadata": {},
   "outputs": [],
   "source": [
    "# Vector space embedding hyperparameters\n",
    "n_dim = 64\n",
    "n_unique_words = 5000  \n",
    "n_words_to_skip = 50  \n",
    "max_review_length = 100 \n",
    "pad_type = trunc_type = 'pre' \n",
    "\n",
    "# Neural Network Architecture\n",
    "dropout = 0.5 \n",
    "epochs = 10\n",
    "batch_size = 128"
   ]
  },
  {
   "cell_type": "markdown",
   "metadata": {},
   "source": [
    "<br>\n",
    "\n",
    "#### Observation\n",
    "- **<em>Vector space embedding hyperparameters</em>**\n",
    "    - **n_dim:** Number of dimensions that each word would take.\n",
    "    - **n_unique_words:** Number for unique words \n",
    "    - **n_words_to_skip:** Skip the top N most frequently occurring words \n",
    "    - **max_review_length:** If our review has more than for example 100 words, we're going to truncate the review. We need, all our reviews have the same length. The longer the review, the greater the dimensionality the model we are fitting and the longer it take s to train.\n",
    "    - **pad_type = trunc_type:** `pad_type` means, if our review is shorther than 100 words, we add the padding to the beggining and `trunc_type` means that if our review is longer than 100 words we truncate the beginning. This means that we are focusing on the ends of the reviews. It's another hyperparameter that we can tune whether it's better to focus on the begining of the review or on the end of the reviews. \n",
    "   \n",
    "<br>\n",
    "\n",
    "<br>"
   ]
  },
  {
   "cell_type": "code",
   "execution_count": 3,
   "metadata": {},
   "outputs": [],
   "source": [
    "(x_train, y_train),(x_test, y_test) = tf.keras.datasets.imdb.load_data(num_words= n_unique_words, \n",
    "                                                                       skip_top=n_words_to_skip)\n",
    "\n",
    "(x_train_all, _),(x_test_all, _) = tf.keras.datasets.imdb.load_data()                                                                      "
   ]
  },
  {
   "cell_type": "markdown",
   "metadata": {},
   "source": [
    "#### Observation \n",
    "- In order to have access to the review aith all the words we read IMDB dataset again.\n",
    "\n",
    "<br>\n"
   ]
  },
  {
   "cell_type": "code",
   "execution_count": 4,
   "metadata": {},
   "outputs": [
    {
     "name": "stdout",
     "output_type": "stream",
     "text": [
      "(25000,)\n",
      "(25000,)\n"
     ]
    }
   ],
   "source": [
    "print(x_train.shape)\n",
    "print(x_test.shape)"
   ]
  },
  {
   "cell_type": "code",
   "execution_count": 5,
   "metadata": {},
   "outputs": [
    {
     "name": "stdout",
     "output_type": "stream",
     "text": [
      "[2, 2, 365, 1234, 2, 1156, 354, 2, 2, 2, 2, 2, 1016, 2, 2, 356, 2, 2, 1349, 500, 746, 2, 200, 2, 4132, 2, 2, 2, 1117, 1831, 2, 2, 4831, 2, 2, 2, 4183, 2, 369, 2, 215, 1345, 143, 2, 2, 1838, 2, 1974, 2, 2, 119, 257, 85, 52, 486, 2, 2, 2, 2, 63, 271, 2, 196, 96, 949, 4121, 2, 2, 2, 2, 2212, 2436, 819, 63, 2, 77, 2, 180, 2, 227, 2, 94, 2494, 2, 2, 423, 2, 168, 2, 2, 2, 2, 89, 665, 71, 270, 56, 2, 2, 197, 2, 161, 2, 99, 76, 2, 2, 2, 419, 665, 2, 91, 85, 108, 2, 2, 2084, 2, 4773, 81, 55, 52, 1901]\n"
     ]
    }
   ],
   "source": [
    "print(x_train[6])"
   ]
  },
  {
   "cell_type": "markdown",
   "metadata": {},
   "source": [
    "<br>\n",
    "\n",
    "#### Observation\n",
    "- 0: Reserved for padding. So, if we had short review, then it will be padded with zeros as placeholder words. \n",
    "- 1: Starting character.\n",
    "- 2: Unknown characters \n",
    "- 3: Word that occurs most often in the dataset, \n",
    "- 4: Represents the second most often word, and so on , all the way through to the 5000 words that we have in our dataset.\n",
    "\n",
    "<br>"
   ]
  },
  {
   "cell_type": "markdown",
   "metadata": {},
   "source": [
    "#### Let's decode one of the sentences to see what it looks like."
   ]
  },
  {
   "cell_type": "code",
   "execution_count": 6,
   "metadata": {},
   "outputs": [],
   "source": [
    "# a mapping from words to their indices, for example `human`: 403\n",
    "word_index = tf.keras.datasets.imdb.get_word_index()\n",
    "\n",
    "# create the reverse mapping i.e. from indices to words\n",
    "rev_word_index = {idx:w for w,idx in word_index.items()}\n",
    "\n",
    "def decode_sentence(s):\n",
    "    # index 0 to 2 are reserved for things like padding, unknown word, etc.\n",
    "    decoded_sent = [rev_word_index.get(idx-3, '[RES]') for idx in s]\n",
    "    return ' '.join(decoded_sent)"
   ]
  },
  {
   "cell_type": "code",
   "execution_count": 7,
   "metadata": {},
   "outputs": [
    {
     "data": {
      "text/plain": [
       "[\"[RES] [RES] [RES] [RES] [RES] brilliant casting location scenery story direction everyone's really suited [RES] part [RES] played [RES] [RES] could [RES] imagine being there robert [RES] [RES] [RES] amazing actor [RES] now [RES] same being director [RES] father came [RES] [RES] same scottish island [RES] myself [RES] [RES] loved [RES] fact there [RES] [RES] real connection [RES] [RES] [RES] [RES] witty remarks throughout [RES] [RES] were great [RES] [RES] [RES] brilliant [RES] much [RES] [RES] bought [RES] [RES] [RES] soon [RES] [RES] [RES] released [RES] [RES] [RES] would recommend [RES] [RES] everyone [RES] watch [RES] [RES] fly [RES] [RES] amazing really cried [RES] [RES] end [RES] [RES] [RES] sad [RES] [RES] know what [RES] say [RES] [RES] cry [RES] [RES] [RES] [RES] must [RES] been good [RES] [RES] definitely [RES] also [RES] [RES] [RES] two little [RES] [RES] played [RES] [RES] [RES] norman [RES] paul [RES] were [RES] brilliant children [RES] often left [RES] [RES] [RES] [RES] list [RES] think because [RES] stars [RES] play them [RES] grown up [RES] such [RES] big [RES] [RES] [RES] whole [RES] [RES] these children [RES] amazing [RES] should [RES] [RES] [RES] what [RES] [RES] done don't [RES] think [RES] whole story [RES] [RES] lovely because [RES] [RES] true [RES] [RES] someone's life after [RES] [RES] [RES] [RES] [RES] us [RES]\",\n",
       " \"[RES] big hair big [RES] bad music [RES] [RES] giant safety [RES] these [RES] [RES] words [RES] best describe [RES] terrible [RES] [RES] love cheesy horror movies [RES] i've seen hundreds [RES] [RES] had got [RES] [RES] [RES] [RES] [RES] worst ever made [RES] plot [RES] paper thin [RES] ridiculous [RES] acting [RES] [RES] [RES] [RES] script [RES] completely laughable [RES] best [RES] [RES] end showdown [RES] [RES] cop [RES] how [RES] worked [RES] [RES] [RES] killer [RES] [RES] [RES] [RES] damn terribly written [RES] clothes [RES] [RES] [RES] funny [RES] equal [RES] [RES] hair [RES] big lots [RES] [RES] [RES] men wear those cut [RES] [RES] [RES] show off their [RES] [RES] [RES] men actually wore them [RES] [RES] music [RES] [RES] [RES] trash [RES] plays over [RES] over again [RES] almost every scene there [RES] trashy music [RES] [RES] [RES] taking away bodies [RES] [RES] [RES] still doesn't close [RES] [RES] [RES] [RES] aside [RES] [RES] [RES] truly bad [RES] whose only charm [RES] [RES] look back [RES] [RES] disaster [RES] [RES] [RES] 80's [RES] [RES] [RES] good old laugh [RES] how bad everything [RES] back then\",\n",
       " \"[RES] [RES] [RES] [RES] [RES] [RES] [RES] [RES] worst films [RES] [RES] [RES] when my friends [RES] were watching [RES] [RES] being [RES] target audience [RES] [RES] aimed [RES] we [RES] sat watched [RES] first half [RES] hour [RES] our jaws touching [RES] floor [RES] how bad [RES] really [RES] [RES] rest [RES] [RES] time everyone else [RES] [RES] theatre [RES] started talking [RES] each other leaving [RES] generally crying into their popcorn [RES] [RES] actually paid money [RES] had [RES] working [RES] watch [RES] [RES] excuse [RES] [RES] [RES] [RES] must [RES] looked [RES] [RES] great idea [RES] paper [RES] [RES] [RES] [RES] looks [RES] no [RES] [RES] [RES] [RES] [RES] [RES] clue what [RES] going [RES] crap acting crap costumes [RES] can't get across how [RES] [RES] [RES] [RES] watch save yourself [RES] hour [RES] bit [RES] your life\"]"
      ]
     },
     "execution_count": 7,
     "metadata": {},
     "output_type": "execute_result"
    }
   ],
   "source": [
    "# [decode_sentence(x_train_all[cnt]) for cnt in range(3)]\n",
    "[decode_sentence(x_train[cnt]) for cnt in range(3)]"
   ]
  },
  {
   "cell_type": "code",
   "execution_count": 8,
   "metadata": {},
   "outputs": [
    {
     "data": {
      "text/plain": [
       "array([1, 0, 0, 1, 0, 0, 1, 0, 1, 0])"
      ]
     },
     "execution_count": 8,
     "metadata": {},
     "output_type": "execute_result"
    }
   ],
   "source": [
    "y_train[:10]"
   ]
  },
  {
   "cell_type": "markdown",
   "metadata": {},
   "source": [
    "<br>\n",
    "\n",
    "#### Observation\n",
    "- 1: Positive\n",
    "- 0: Negative\n",
    "\n",
    "<br>"
   ]
  },
  {
   "cell_type": "code",
   "execution_count": 9,
   "metadata": {},
   "outputs": [
    {
     "name": "stdout",
     "output_type": "stream",
     "text": [
      "218\n",
      "189\n",
      "141\n",
      "550\n",
      "147\n"
     ]
    }
   ],
   "source": [
    "for cnt in range(5):\n",
    "    print(len(x_train[cnt]))"
   ]
  },
  {
   "cell_type": "markdown",
   "metadata": {},
   "source": [
    "<br>\n",
    "\n",
    "#### Observation\n",
    "- Reviews are in different lengths. For our training they should be in the same length.\n",
    "\n",
    "<br>"
   ]
  },
  {
   "cell_type": "markdown",
   "metadata": {},
   "source": [
    "<br>\n",
    "\n",
    "## Data preprocessing "
   ]
  },
  {
   "cell_type": "code",
   "execution_count": 10,
   "metadata": {},
   "outputs": [],
   "source": [
    "x_train = tf.keras.preprocessing.sequence.pad_sequences(x_train, \n",
    "                                                        maxlen=max_review_length, \n",
    "                                                        padding=pad_type, \n",
    "                                                        truncating=trunc_type, \n",
    "                                                        value=0)\n",
    "\n",
    "x_test = tf.keras.preprocessing.sequence.pad_sequences(x_test, \n",
    "                                                       maxlen=max_review_length, \n",
    "                                                       padding=pad_type, \n",
    "                                                       truncating=trunc_type, \n",
    "                                                       value=0)"
   ]
  },
  {
   "cell_type": "markdown",
   "metadata": {},
   "source": [
    "<br>\n",
    "\n",
    "#### Observation\n",
    "- **maxlen=max_review_length=100**    \n",
    "    - If our review has more than 100 words, we're going to truncate the review. We need all our review have the same length. The longer the review, the greater the dimensionality the model we are fitting and the longer it take s to train.\n",
    "    \n",
    "    \n",
    "- **padding=pad_type, truncating=trunc_type**\n",
    "    - *pad_type* : if our review is shorther than 100 words, we add the padding to the beggining and \n",
    "    - *trunc_type* : if our review is longer than 100 words we truncate the beginning. \n",
    "    \n",
    "    \n",
    "- **value = 0**: Use the value of 0 for our padding\n",
    "\n",
    "<br>"
   ]
  },
  {
   "cell_type": "code",
   "execution_count": 11,
   "metadata": {},
   "outputs": [
    {
     "name": "stdout",
     "output_type": "stream",
     "text": [
      "100\n",
      "100\n",
      "100\n",
      "100\n",
      "100\n"
     ]
    }
   ],
   "source": [
    "for cnt in range(5):\n",
    "    print(len(x_train[cnt]))"
   ]
  },
  {
   "cell_type": "markdown",
   "metadata": {},
   "source": [
    "<br>\n",
    "\n",
    "#### Observation\n",
    "- They all are in the same length\n",
    "\n",
    "<br>\n",
    "\n",
    "<br>"
   ]
  },
  {
   "cell_type": "code",
   "execution_count": 12,
   "metadata": {},
   "outputs": [
    {
     "name": "stdout",
     "output_type": "stream",
     "text": [
      "[RES] [RES] [RES] [RES] [RES] [RES] [RES] [RES] [RES] [RES] [RES] [RES] [RES] [RES] [RES] [RES] [RES] [RES] [RES] [RES] [RES] [RES] [RES] [RES] [RES] [RES] [RES] [RES] [RES] [RES] [RES] [RES] [RES] [RES] [RES] [RES] [RES] [RES] [RES] [RES] [RES] [RES] [RES] [RES] [RES] [RES] [RES] [RES] [RES] [RES] [RES] [RES] [RES] [RES] [RES] [RES] [RES] [RES] begins better than [RES] ends funny [RES] [RES] russian [RES] crew [RES] [RES] other actors [RES] [RES] those scenes where documentary shots [RES] [RES] spoiler part [RES] message [RES] [RES] contrary [RES] [RES] whole story [RES] [RES] does [RES] [RES] [RES] [RES]\n",
      "------------------------------------------------------------------------------------------------------------------------------\n",
      "[   0    0    0    0    0    0    0    0    0    0    0    0    0    0\n",
      "    0    0    0    0    0    0    0    0    0    0    0    0    0    0\n",
      "    0    0    0    0    0    0    0    0    0    0    0    0    0    0\n",
      "    0    0    0    0    0    0    0    0    0    0    0    0    0    0\n",
      "    0    2  778  128   74    2  630  163    2    2 1766    2 1051    2\n",
      "    2   85  156    2    2  148  139  121  664  665    2    2 1361  173\n",
      "    2  749    2    2 3804    2    2  226   65    2    2  127    2    2\n",
      "    2    2]\n"
     ]
    }
   ],
   "source": [
    "print(decode_sentence(x_train[5]))\n",
    "print('-'*126)\n",
    "print(x_train[5])"
   ]
  },
  {
   "cell_type": "markdown",
   "metadata": {},
   "source": [
    "<br>\n",
    "\n",
    "<br>\n",
    "\n",
    "## ANN architecture "
   ]
  },
  {
   "cell_type": "code",
   "execution_count": 13,
   "metadata": {},
   "outputs": [],
   "source": [
    "model = tf.keras.models.Sequential()\n",
    "\n",
    "\n",
    "# Embedding Layer(Taking Inputs)\n",
    "model.add(tf.keras.layers.Embedding(input_dim=n_unique_words, \n",
    "                                    output_dim=n_dim, \n",
    "                                    input_length=max_review_length))\n",
    "\n",
    "# Flattening\n",
    "model.add(tf.keras.layers.Flatten()) \n",
    "\n",
    "\n",
    "# Dense Fully Connected Layer\n",
    "model.add(tf.keras.layers.Dense(units=128, \n",
    "                                activation='relu')) \n",
    "model.add(tf.keras.layers.Dropout(0.5)) \n",
    "model.add(tf.keras.layers.Dense(units=64, \n",
    "                                activation='relu')) \n",
    "model.add(tf.keras.layers.Dropout(0.5)) \n",
    "\n",
    "\n",
    "# Output Layer\n",
    "model.add(tf.keras.layers.Dense(units=1, \n",
    "                                activation='sigmoid'))  "
   ]
  },
  {
   "cell_type": "code",
   "execution_count": 14,
   "metadata": {},
   "outputs": [
    {
     "name": "stdout",
     "output_type": "stream",
     "text": [
      "Model: \"sequential\"\n",
      "_________________________________________________________________\n",
      "Layer (type)                 Output Shape              Param #   \n",
      "=================================================================\n",
      "embedding (Embedding)        (None, 100, 64)           320000    \n",
      "_________________________________________________________________\n",
      "flatten (Flatten)            (None, 6400)              0         \n",
      "_________________________________________________________________\n",
      "dense (Dense)                (None, 128)               819328    \n",
      "_________________________________________________________________\n",
      "dropout (Dropout)            (None, 128)               0         \n",
      "_________________________________________________________________\n",
      "dense_1 (Dense)              (None, 64)                8256      \n",
      "_________________________________________________________________\n",
      "dropout_1 (Dropout)          (None, 64)                0         \n",
      "_________________________________________________________________\n",
      "dense_2 (Dense)              (None, 1)                 65        \n",
      "=================================================================\n",
      "Total params: 1,147,649\n",
      "Trainable params: 1,147,649\n",
      "Non-trainable params: 0\n",
      "_________________________________________________________________\n"
     ]
    }
   ],
   "source": [
    "model.summary()"
   ]
  },
  {
   "cell_type": "code",
   "execution_count": 15,
   "metadata": {},
   "outputs": [],
   "source": [
    "model.compile(loss='binary_crossentropy', \n",
    "              optimizer='adam', \n",
    "              metrics=['accuracy'])"
   ]
  },
  {
   "cell_type": "code",
   "execution_count": 16,
   "metadata": {},
   "outputs": [
    {
     "name": "stdout",
     "output_type": "stream",
     "text": [
      "Train on 22500 samples, validate on 2500 samples\n",
      "Epoch 1/10\n",
      "22500/22500 [==============================] - 8s 356us/sample - loss: 0.4879 - accuracy: 0.7406 - val_loss: 0.3563 - val_accuracy: 0.8428\n",
      "Epoch 2/10\n",
      "22500/22500 [==============================] - 7s 321us/sample - loss: 0.2228 - accuracy: 0.9154 - val_loss: 0.4153 - val_accuracy: 0.8352\n",
      "Epoch 3/10\n",
      "22500/22500 [==============================] - 7s 320us/sample - loss: 0.0485 - accuracy: 0.9845 - val_loss: 0.7227 - val_accuracy: 0.8276\n",
      "Epoch 4/10\n",
      "22500/22500 [==============================] - 7s 326us/sample - loss: 0.0190 - accuracy: 0.9929 - val_loss: 1.0320 - val_accuracy: 0.8120\n",
      "Epoch 5/10\n",
      "22500/22500 [==============================] - 7s 329us/sample - loss: 0.0187 - accuracy: 0.9937 - val_loss: 1.0780 - val_accuracy: 0.8176\n",
      "Epoch 6/10\n",
      "22500/22500 [==============================] - 7s 326us/sample - loss: 0.0147 - accuracy: 0.9953 - val_loss: 1.0346 - val_accuracy: 0.8168\n",
      "Epoch 7/10\n",
      "22500/22500 [==============================] - 7s 328us/sample - loss: 0.0140 - accuracy: 0.9953 - val_loss: 1.2435 - val_accuracy: 0.8124\n",
      "Epoch 8/10\n",
      "22500/22500 [==============================] - 8s 335us/sample - loss: 0.0122 - accuracy: 0.9954 - val_loss: 1.2087 - val_accuracy: 0.8292\n",
      "Epoch 9/10\n",
      "22500/22500 [==============================] - 7s 327us/sample - loss: 0.0113 - accuracy: 0.9960 - val_loss: 1.2416 - val_accuracy: 0.8312\n",
      "Epoch 10/10\n",
      "22500/22500 [==============================] - 7s 328us/sample - loss: 0.0119 - accuracy: 0.9964 - val_loss: 1.1084 - val_accuracy: 0.8276\n"
     ]
    }
   ],
   "source": [
    "history = model.fit(x_train, \n",
    "                    y_train, \n",
    "                    batch_size=32, \n",
    "                    epochs=10,                     \n",
    "                    validation_split=0.1)"
   ]
  },
  {
   "cell_type": "markdown",
   "metadata": {},
   "source": [
    "<br>\n",
    "\n",
    "<br>\n",
    "\n",
    "## Plotting the accuracy"
   ]
  },
  {
   "cell_type": "code",
   "execution_count": 17,
   "metadata": {},
   "outputs": [
    {
     "data": {
      "image/png": "[encoded data removed]",
      "text/plain": [
       "<Figure size 720x576 with 1 Axes>"
      ]
     },
     "metadata": {
      "needs_background": "light"
     },
     "output_type": "display_data"
    }
   ],
   "source": [
    "plt.figure(figsize=(10,8))\n",
    "history_dict = history.history   \n",
    "\n",
    "loss_values = history_dict['accuracy']\n",
    "val_loss_values = history_dict['val_accuracy']\n",
    "epochs = range(1, len(loss_values) + 1)\n",
    "\n",
    "line1 = plt.plot(epochs, val_loss_values, label='Validation Accuracy')\n",
    "line2 = plt.plot(epochs, loss_values, label='Training Accuracy')\n",
    "plt.setp(line1, linewidth=2.0, marker = '+', markersize=10.0)\n",
    "plt.setp(line2, linewidth=2.0, marker = '4', markersize=10.0)\n",
    "plt.xlabel('Epochs', fontsize=12) \n",
    "plt.ylabel('Loss', fontsize=12)\n",
    "plt.grid(True)\n",
    "plt.legend(loc='best', fontsize=12)\n",
    "plt.show()"
   ]
  },
  {
   "cell_type": "code",
   "execution_count": 18,
   "metadata": {},
   "outputs": [
    {
     "name": "stdout",
     "output_type": "stream",
     "text": [
      "25000/25000 [==============================] - 1s 42us/sample - loss: 1.2147 - accuracy: 0.8088\n",
      "\n",
      "Test loss: 1.2147236950540543\n",
      "Test accuracy: 0.80884\n"
     ]
    }
   ],
   "source": [
    "score = model.evaluate(x_test, \n",
    "                       y_test)\n",
    "\n",
    "print('\\nTest loss:', score[0])\n",
    "print('Test accuracy:', score[1])"
   ]
  },
  {
   "cell_type": "code",
   "execution_count": 19,
   "metadata": {},
   "outputs": [],
   "source": [
    "y_hat = model.predict_proba(x_test)"
   ]
  },
  {
   "cell_type": "code",
   "execution_count": 20,
   "metadata": {},
   "outputs": [
    {
     "name": "stdout",
     "output_type": "stream",
     "text": [
      "Probability that y_hat[0] is a positive review: [0.29822785]\n",
      "The original review: 0\n",
      "\n"
     ]
    }
   ],
   "source": [
    "# It assign this number as the probability that it's a positive review\n",
    "print(f'Probability that y_hat[0] is a positive review: {y_hat[0]}')\n",
    "\n",
    "\n",
    "print(f'The original review: {y_test[0]}\\n')"
   ]
  },
  {
   "cell_type": "code",
   "execution_count": 21,
   "metadata": {},
   "outputs": [
    {
     "data": {
      "image/png": "[encoded data removed]",
      "text/plain": [
       "<Figure size 432x288 with 1 Axes>"
      ]
     },
     "metadata": {
      "needs_background": "light"
     },
     "output_type": "display_data"
    }
   ],
   "source": [
    "plt.hist(y_hat)\n",
    "_ = plt.axvline(x=0.5, color='orange')"
   ]
  },
  {
   "cell_type": "markdown",
   "metadata": {},
   "source": [
    "<br>\n",
    "\n",
    "<br>\n",
    "\n",
    "## Visualization using AUC"
   ]
  },
  {
   "cell_type": "code",
   "execution_count": 22,
   "metadata": {},
   "outputs": [
    {
     "name": "stdout",
     "output_type": "stream",
     "text": [
      "AUC: 89.55\n",
      "\n",
      "\n"
     ]
    },
    {
     "data": {
      "image/png": "[encoded data removed]",
      "text/plain": [
       "<Figure size 576x432 with 1 Axes>"
      ]
     },
     "metadata": {
      "needs_background": "light"
     },
     "output_type": "display_data"
    }
   ],
   "source": [
    "plt.figure(figsize=(8,6))\n",
    "\n",
    "pct_auc = roc_auc_score(y_test, y_hat)*100.0\n",
    "print(f'AUC: {pct_auc:0.2f}\\n\\n')\n",
    "\n",
    "fpr, tpr, threshold = roc_curve(y_test, y_hat)\n",
    "roc_auc = auc(fpr, tpr)\n",
    "\n",
    "plt.title('Receiver Operating Characteristic')\n",
    "plt.plot(fpr, tpr, 'b', label = f'AUC = {roc_auc:0.2f}')\n",
    "plt.legend(loc = 'lower right')\n",
    "plt.plot([0, 1], [0, 1],'r--')\n",
    "plt.xlim([0, 1])\n",
    "plt.ylim([0, 1])\n",
    "plt.ylabel('True Positive Rate')\n",
    "plt.xlabel('False Positive Rate')\n",
    "plt.show()"
   ]
  },
  {
   "cell_type": "markdown",
   "metadata": {},
   "source": [
    "#### Observation\n",
    "- **AUC ROC**\n",
    "    - A simple way of evaluating model performance is through the cost, so on the validation dataset we want to get the lowest cost as we could get, but that does not translate mush in the real world. Another simple metric for measuring the performance of a statistical model is the accuracy. So, for example for the movie reviews, if the probability output for a given review is above 0.5 out of 1, we can say, that is our threshold and it’s a positive review. However, that kind of single threshold at the middle is simplistic as well. It would be nice to know that a prediction that typically of 0.1 is less likely to be a positive review.  Something close to 0.3 is not as negative as to 0.1, something at 0.5 is right at the middle. For example, if the only metric we consider is accuracy, then a review that is assign to score of 0.49 is bare different from a review of 0.51, yet we are saying 0.49 is negative and 0.51 is positive. It does not seem nuance or noticeable. \n",
    "    - A different complex metric is the area under the curve of the receiver operating characteristic. It’s a single value that represents a model’s performance across the whole range of output from 0 up to 1.\n",
    " "
   ]
  },
  {
   "cell_type": "markdown",
   "metadata": {},
   "source": [
    "\n",
    "<br>\n",
    "\n",
    "<br>\n",
    "\n",
    "## Examining the model performance"
   ]
  },
  {
   "cell_type": "code",
   "execution_count": 23,
   "metadata": {},
   "outputs": [
    {
     "data": {
      "text/html": [
       "<div>\n",
       "<style scoped>\n",
       "    .dataframe tbody tr th:only-of-type {\n",
       "        vertical-align: middle;\n",
       "    }\n",
       "\n",
       "    .dataframe tbody tr th {\n",
       "        vertical-align: top;\n",
       "    }\n",
       "\n",
       "    .dataframe thead th {\n",
       "        text-align: right;\n",
       "    }\n",
       "</style>\n",
       "<table border=\"1\" class=\"dataframe\">\n",
       "  <thead>\n",
       "    <tr style=\"text-align: right;\">\n",
       "      <th></th>\n",
       "      <th>y_hat</th>\n",
       "      <th>y</th>\n",
       "    </tr>\n",
       "  </thead>\n",
       "  <tbody>\n",
       "    <tr>\n",
       "      <th>0</th>\n",
       "      <td>0.29823</td>\n",
       "      <td>0</td>\n",
       "    </tr>\n",
       "    <tr>\n",
       "      <th>1</th>\n",
       "      <td>1.00000</td>\n",
       "      <td>1</td>\n",
       "    </tr>\n",
       "    <tr>\n",
       "      <th>2</th>\n",
       "      <td>0.99409</td>\n",
       "      <td>1</td>\n",
       "    </tr>\n",
       "    <tr>\n",
       "      <th>3</th>\n",
       "      <td>0.02987</td>\n",
       "      <td>0</td>\n",
       "    </tr>\n",
       "    <tr>\n",
       "      <th>4</th>\n",
       "      <td>1.00000</td>\n",
       "      <td>1</td>\n",
       "    </tr>\n",
       "    <tr>\n",
       "      <th>5</th>\n",
       "      <td>0.99986</td>\n",
       "      <td>1</td>\n",
       "    </tr>\n",
       "    <tr>\n",
       "      <th>6</th>\n",
       "      <td>1.00000</td>\n",
       "      <td>1</td>\n",
       "    </tr>\n",
       "    <tr>\n",
       "      <th>7</th>\n",
       "      <td>0.00000</td>\n",
       "      <td>0</td>\n",
       "    </tr>\n",
       "    <tr>\n",
       "      <th>8</th>\n",
       "      <td>0.99999</td>\n",
       "      <td>0</td>\n",
       "    </tr>\n",
       "    <tr>\n",
       "      <th>9</th>\n",
       "      <td>1.00000</td>\n",
       "      <td>1</td>\n",
       "    </tr>\n",
       "  </tbody>\n",
       "</table>\n",
       "</div>"
      ],
      "text/plain": [
       "    y_hat  y\n",
       "0 0.29823  0\n",
       "1 1.00000  1\n",
       "2 0.99409  1\n",
       "3 0.02987  0\n",
       "4 1.00000  1\n",
       "5 0.99986  1\n",
       "6 1.00000  1\n",
       "7 0.00000  0\n",
       "8 0.99999  0\n",
       "9 1.00000  1"
      ]
     },
     "execution_count": 23,
     "metadata": {},
     "output_type": "execute_result"
    }
   ],
   "source": [
    "pd.options.display.float_format = '{:.5f}'.format\n",
    "\n",
    "y_hat = model.predict_proba(x_test)\n",
    "\n",
    "float_y_hat = []\n",
    "for y in y_hat:\n",
    "    float_y_hat.append(y[0])\n",
    "    \n",
    "ydf = pd.DataFrame(list(zip(float_y_hat, y_test)), columns=['y_hat', 'y'])\n",
    "ydf['y_hat'] = ydf['y_hat'].astype('float32') \n",
    "\n",
    "ydf.head(10)"
   ]
  },
  {
   "cell_type": "markdown",
   "metadata": {},
   "source": [
    "<br>\n",
    "\n",
    "<br>\n",
    "\n",
    "### Negative reviews that were assigned positive"
   ]
  },
  {
   "cell_type": "code",
   "execution_count": 24,
   "metadata": {},
   "outputs": [
    {
     "name": "stdout",
     "output_type": "stream",
     "text": [
      "\n",
      "Number of negative reviews that were assigned positive: 2244\n",
      "\n"
     ]
    },
    {
     "data": {
      "text/html": [
       "<div>\n",
       "<style scoped>\n",
       "    .dataframe tbody tr th:only-of-type {\n",
       "        vertical-align: middle;\n",
       "    }\n",
       "\n",
       "    .dataframe tbody tr th {\n",
       "        vertical-align: top;\n",
       "    }\n",
       "\n",
       "    .dataframe thead th {\n",
       "        text-align: right;\n",
       "    }\n",
       "</style>\n",
       "<table border=\"1\" class=\"dataframe\">\n",
       "  <thead>\n",
       "    <tr style=\"text-align: right;\">\n",
       "      <th></th>\n",
       "      <th>y_hat</th>\n",
       "      <th>y</th>\n",
       "    </tr>\n",
       "  </thead>\n",
       "  <tbody>\n",
       "    <tr>\n",
       "      <th>8</th>\n",
       "      <td>0.99999</td>\n",
       "      <td>0</td>\n",
       "    </tr>\n",
       "    <tr>\n",
       "      <th>17</th>\n",
       "      <td>0.99814</td>\n",
       "      <td>0</td>\n",
       "    </tr>\n",
       "    <tr>\n",
       "      <th>38</th>\n",
       "      <td>0.94300</td>\n",
       "      <td>0</td>\n",
       "    </tr>\n",
       "    <tr>\n",
       "      <th>59</th>\n",
       "      <td>0.92402</td>\n",
       "      <td>0</td>\n",
       "    </tr>\n",
       "    <tr>\n",
       "      <th>66</th>\n",
       "      <td>0.99024</td>\n",
       "      <td>0</td>\n",
       "    </tr>\n",
       "  </tbody>\n",
       "</table>\n",
       "</div>"
      ],
      "text/plain": [
       "     y_hat  y\n",
       "8  0.99999  0\n",
       "17 0.99814  0\n",
       "38 0.94300  0\n",
       "59 0.92402  0\n",
       "66 0.99024  0"
      ]
     },
     "execution_count": 24,
     "metadata": {},
     "output_type": "execute_result"
    }
   ],
   "source": [
    "mask = (ydf['y'] == 0) & (ydf['y_hat'] > 0.9)\n",
    "print(f'\\nNumber of negative reviews that were assigned positive: {len(ydf[mask])}\\n')\n",
    "ydf[mask].head()"
   ]
  },
  {
   "cell_type": "code",
   "execution_count": 25,
   "metadata": {},
   "outputs": [
    {
     "name": "stdout",
     "output_type": "stream",
     "text": [
      "[RES] hollywood had a long love affair with bogus arabian nights tales but few of these products have stood the test of time the most memorable were the jon hall maria montez films which have long since become camp this one is filled with dubbed songs anachronistic slang and slapstick it's a truly crop of corn and pretty near intolerable today it was nominated for its imaginative special effects which are almost unnoticeable in this day and age consisting mainly of trick photography the only outstanding positive feature which survives is its beautiful color and clarity sad to say of the many films made in this genre few of them come up to alexander korda's original thief of baghdad almost any other arabian nights film is superior to this one though it's a loser\n",
      "\n",
      "[RES] long since become camp [RES] [RES] [RES] filled [RES] dubbed songs [RES] [RES] [RES] slapstick [RES] [RES] truly [RES] [RES] [RES] [RES] pretty near [RES] today [RES] [RES] nominated [RES] its imaginative special effects which [RES] almost [RES] [RES] [RES] day [RES] age [RES] mainly [RES] trick photography [RES] only outstanding positive feature which [RES] [RES] its beautiful color [RES] [RES] sad [RES] say [RES] [RES] many films made [RES] [RES] genre few [RES] them come up [RES] alexander [RES] original thief [RES] [RES] almost any other [RES] nights [RES] [RES] superior [RES] [RES] [RES] though [RES] [RES] loser\n"
     ]
    }
   ],
   "source": [
    "print(decode_sentence(x_test_all[8]))\n",
    "print()\n",
    "print(decode_sentence(x_test[8]))"
   ]
  },
  {
   "cell_type": "markdown",
   "metadata": {},
   "source": [
    "<br>\n",
    "\n",
    "<br>\n",
    "\n",
    "### Positive reviews that were assigned negative"
   ]
  },
  {
   "cell_type": "code",
   "execution_count": 26,
   "metadata": {},
   "outputs": [
    {
     "name": "stdout",
     "output_type": "stream",
     "text": [
      "\n",
      "Number of positive reviews that were assigned negative: 1363\n",
      "\n"
     ]
    },
    {
     "data": {
      "text/html": [
       "<div>\n",
       "<style scoped>\n",
       "    .dataframe tbody tr th:only-of-type {\n",
       "        vertical-align: middle;\n",
       "    }\n",
       "\n",
       "    .dataframe tbody tr th {\n",
       "        vertical-align: top;\n",
       "    }\n",
       "\n",
       "    .dataframe thead th {\n",
       "        text-align: right;\n",
       "    }\n",
       "</style>\n",
       "<table border=\"1\" class=\"dataframe\">\n",
       "  <thead>\n",
       "    <tr style=\"text-align: right;\">\n",
       "      <th></th>\n",
       "      <th>y_hat</th>\n",
       "      <th>y</th>\n",
       "    </tr>\n",
       "  </thead>\n",
       "  <tbody>\n",
       "    <tr>\n",
       "      <th>22</th>\n",
       "      <td>0.03152</td>\n",
       "      <td>1</td>\n",
       "    </tr>\n",
       "    <tr>\n",
       "      <th>45</th>\n",
       "      <td>0.04812</td>\n",
       "      <td>1</td>\n",
       "    </tr>\n",
       "    <tr>\n",
       "      <th>49</th>\n",
       "      <td>0.03422</td>\n",
       "      <td>1</td>\n",
       "    </tr>\n",
       "    <tr>\n",
       "      <th>53</th>\n",
       "      <td>0.08467</td>\n",
       "      <td>1</td>\n",
       "    </tr>\n",
       "    <tr>\n",
       "      <th>72</th>\n",
       "      <td>0.09391</td>\n",
       "      <td>1</td>\n",
       "    </tr>\n",
       "  </tbody>\n",
       "</table>\n",
       "</div>"
      ],
      "text/plain": [
       "     y_hat  y\n",
       "22 0.03152  1\n",
       "45 0.04812  1\n",
       "49 0.03422  1\n",
       "53 0.08467  1\n",
       "72 0.09391  1"
      ]
     },
     "execution_count": 26,
     "metadata": {},
     "output_type": "execute_result"
    }
   ],
   "source": [
    "mask = (ydf['y'] == 1) & (ydf['y_hat'] < 0.1)\n",
    "print(f'\\nNumber of positive reviews that were assigned negative: {len(ydf[mask])}\\n')\n",
    "\n",
    "ydf[mask].head()"
   ]
  },
  {
   "cell_type": "markdown",
   "metadata": {},
   "source": [
    "<br>\n",
    "\n",
    "---\n",
    "\n",
    "<br>\n",
    "\n",
    "<br>\n",
    "\n",
    "# Convolutional Sentiment Classifier\n",
    "\n",
    "- Classify IMDB reviews by their sentiment with a ConvNet\n",
    "\n",
    "- we use CNN for machine vision to detect features like a particular orientation of an edge wherever occurs in an image. In an image our data is 2-dimensions, however in NLP our data is linear and just in a single dimension, so our convolution will be linear in 1 dimension.\n"
   ]
  },
  {
   "cell_type": "code",
   "execution_count": 1,
   "metadata": {},
   "outputs": [],
   "source": [
    "import tensorflow as tf\n",
    "import matplotlib.pyplot as plt\n",
    "import pandas as pd\n",
    "from sklearn.metrics import roc_auc_score, roc_curve, auc\n",
    "\n",
    "%matplotlib inline"
   ]
  },
  {
   "cell_type": "markdown",
   "metadata": {},
   "source": [
    "<br>\n",
    "\n",
    "## Load data"
   ]
  },
  {
   "cell_type": "code",
   "execution_count": 2,
   "metadata": {},
   "outputs": [],
   "source": [
    "(x_train, y_train),(x_test, y_test) = tf.keras.datasets.imdb.load_data(num_words=5000) # 5000 is the number of unique words"
   ]
  },
  {
   "cell_type": "markdown",
   "metadata": {},
   "source": [
    "<br>\n",
    "\n",
    "<br>\n",
    "\n",
    "## Preprocess data "
   ]
  },
  {
   "cell_type": "code",
   "execution_count": 3,
   "metadata": {},
   "outputs": [],
   "source": [
    "x_train = tf.keras.preprocessing.sequence.pad_sequences(x_train, \n",
    "                                                        maxlen=400, \n",
    "                                                        padding='pre', \n",
    "                                                        truncating='pre', \n",
    "                                                        value=0)\n",
    "\n",
    "\n",
    "x_test = tf.keras.preprocessing.sequence.pad_sequences(x_test, \n",
    "                                                       maxlen=400, \n",
    "                                                       padding='pre', \n",
    "                                                       truncating='pre', \n",
    "                                                       value=0)"
   ]
  },
  {
   "cell_type": "markdown",
   "metadata": {},
   "source": [
    "<br>\n",
    "\n",
    "<br>\n",
    "\n",
    "## CNN architecture"
   ]
  },
  {
   "cell_type": "code",
   "execution_count": 4,
   "metadata": {},
   "outputs": [],
   "source": [
    "model = tf.keras.models.Sequential()\n",
    "\n",
    "# Embedding Layer(Taking Inputs) \n",
    "model.add(tf.keras.layers.Embedding(input_dim=5000,\n",
    "                                    output_dim=64, \n",
    "                                    input_length=400))\n",
    "model.add(tf.keras.layers.SpatialDropout1D(0.2)) # dropout out for embedding layer\n",
    "\n",
    "\n",
    "# CNN Layer \n",
    "model.add(tf.keras.layers.Conv1D(filters=256,\n",
    "                                 kernel_size=3, \n",
    "                                 activation='relu'))\n",
    "model.add(tf.keras.layers.GlobalMaxPool1D()) \n",
    "\n",
    "\n",
    "# Dense Layer \n",
    "model.add(tf.keras.layers.Dense(units=256, activation='relu'))\n",
    "model.add(tf.keras.layers.Dropout(0.2))\n",
    "\n",
    "\n",
    "# Output Layer \n",
    "model.add(tf.keras.layers.Dense(units=1, activation='sigmoid')) "
   ]
  },
  {
   "cell_type": "code",
   "execution_count": 5,
   "metadata": {},
   "outputs": [
    {
     "name": "stdout",
     "output_type": "stream",
     "text": [
      "Model: \"sequential\"\n",
      "_________________________________________________________________\n",
      "Layer (type)                 Output Shape              Param #   \n",
      "=================================================================\n",
      "embedding (Embedding)        (None, 400, 64)           320000    \n",
      "_________________________________________________________________\n",
      "spatial_dropout1d (SpatialDr (None, 400, 64)           0         \n",
      "_________________________________________________________________\n",
      "conv1d (Conv1D)              (None, 398, 256)          49408     \n",
      "_________________________________________________________________\n",
      "global_max_pooling1d (Global (None, 256)               0         \n",
      "_________________________________________________________________\n",
      "dense (Dense)                (None, 256)               65792     \n",
      "_________________________________________________________________\n",
      "dropout (Dropout)            (None, 256)               0         \n",
      "_________________________________________________________________\n",
      "dense_1 (Dense)              (None, 1)                 257       \n",
      "=================================================================\n",
      "Total params: 435,457\n",
      "Trainable params: 435,457\n",
      "Non-trainable params: 0\n",
      "_________________________________________________________________\n"
     ]
    }
   ],
   "source": [
    "model.summary()"
   ]
  },
  {
   "cell_type": "code",
   "execution_count": 6,
   "metadata": {},
   "outputs": [],
   "source": [
    "model.compile(loss='binary_crossentropy', \n",
    "              optimizer='adam', \n",
    "              metrics=['accuracy'])"
   ]
  },
  {
   "cell_type": "code",
   "execution_count": 7,
   "metadata": {},
   "outputs": [
    {
     "name": "stdout",
     "output_type": "stream",
     "text": [
      "Train on 22500 samples, validate on 2500 samples\n",
      "Epoch 1/10\n",
      "22500/22500 [==============================] - 31s 1ms/sample - loss: 0.5029 - accuracy: 0.7280 - val_loss: 0.3254 - val_accuracy: 0.8580\n",
      "Epoch 2/10\n",
      "22500/22500 [==============================] - 29s 1ms/sample - loss: 0.2584 - accuracy: 0.8929 - val_loss: 0.2677 - val_accuracy: 0.8924\n",
      "Epoch 3/10\n",
      "22500/22500 [==============================] - 30s 1ms/sample - loss: 0.1789 - accuracy: 0.9322 - val_loss: 0.2682 - val_accuracy: 0.8928\n",
      "Epoch 4/10\n",
      "22500/22500 [==============================] - 30s 1ms/sample - loss: 0.1161 - accuracy: 0.9597 - val_loss: 0.2971 - val_accuracy: 0.8888\n",
      "Epoch 5/10\n",
      "22500/22500 [==============================] - 30s 1ms/sample - loss: 0.0754 - accuracy: 0.9761 - val_loss: 0.3296 - val_accuracy: 0.8964\n",
      "Epoch 6/10\n",
      "22500/22500 [==============================] - 30s 1ms/sample - loss: 0.0414 - accuracy: 0.9882 - val_loss: 0.3776 - val_accuracy: 0.8884\n",
      "Epoch 7/10\n",
      "22500/22500 [==============================] - 31s 1ms/sample - loss: 0.0236 - accuracy: 0.9943 - val_loss: 0.4229 - val_accuracy: 0.8900\n",
      "Epoch 8/10\n",
      "22500/22500 [==============================] - 35s 2ms/sample - loss: 0.0162 - accuracy: 0.9962 - val_loss: 0.4554 - val_accuracy: 0.8880\n",
      "Epoch 9/10\n",
      "22500/22500 [==============================] - 33s 1ms/sample - loss: 0.0127 - accuracy: 0.9967 - val_loss: 0.4992 - val_accuracy: 0.8908\n",
      "Epoch 10/10\n",
      "22500/22500 [==============================] - 27s 1ms/sample - loss: 0.0113 - accuracy: 0.9967 - val_loss: 0.5551 - val_accuracy: 0.8856\n"
     ]
    }
   ],
   "source": [
    "history = model.fit(x_train, \n",
    "                    y_train, \n",
    "                    batch_size=128,\n",
    "                    epochs=10, \n",
    "                    validation_split=.1)"
   ]
  },
  {
   "cell_type": "markdown",
   "metadata": {},
   "source": [
    "<br>\n",
    "\n",
    "<br>\n",
    "\n",
    "## Plotting the accuracy "
   ]
  },
  {
   "cell_type": "code",
   "execution_count": 8,
   "metadata": {},
   "outputs": [
    {
     "data": {
      "image/png": "[encoded data removed]",
      "text/plain": [
       "<Figure size 720x576 with 1 Axes>"
      ]
     },
     "metadata": {
      "needs_background": "light"
     },
     "output_type": "display_data"
    }
   ],
   "source": [
    "plt.figure(figsize=(10,8))\n",
    "history_dict = history.history   \n",
    "\n",
    "loss_values = history_dict['accuracy']\n",
    "val_loss_values = history_dict['val_accuracy']\n",
    "epochs = range(1, len(loss_values) + 1)\n",
    "\n",
    "line1 = plt.plot(epochs, val_loss_values, label='Validation Accuracy')\n",
    "line2 = plt.plot(epochs, loss_values, label='Training Accuracy')\n",
    "plt.setp(line1, linewidth=2.0, marker = '+', markersize=10.0)\n",
    "plt.setp(line2, linewidth=2.0, marker = '4', markersize=10.0)\n",
    "plt.xlabel('Epochs', fontsize=12) \n",
    "plt.ylabel('Loss', fontsize=12)\n",
    "plt.grid(True)\n",
    "plt.legend(loc='best', fontsize=12)\n",
    "plt.show()"
   ]
  },
  {
   "cell_type": "code",
   "execution_count": 9,
   "metadata": {},
   "outputs": [
    {
     "name": "stdout",
     "output_type": "stream",
     "text": [
      "25000/25000 [==============================] - 7s 288us/sample - loss: 0.5404 - accuracy: 0.8808\n",
      "Test Loss: 0.5403802647086233\n",
      "Test Accuracy: 0.880840003490448\n"
     ]
    }
   ],
   "source": [
    "score = model.evaluate(x_test,\n",
    "                       y_test)\n",
    "\n",
    "print(f'Test Loss: {score[0]}')\n",
    "print(f'Test Accuracy: {score[1]}')"
   ]
  },
  {
   "cell_type": "markdown",
   "metadata": {},
   "source": [
    "<br>\n",
    "\n",
    "<br>\n",
    "\n",
    "## Examining the model performance"
   ]
  },
  {
   "cell_type": "code",
   "execution_count": 10,
   "metadata": {},
   "outputs": [
    {
     "data": {
      "text/html": [
       "<div>\n",
       "<style scoped>\n",
       "    .dataframe tbody tr th:only-of-type {\n",
       "        vertical-align: middle;\n",
       "    }\n",
       "\n",
       "    .dataframe tbody tr th {\n",
       "        vertical-align: top;\n",
       "    }\n",
       "\n",
       "    .dataframe thead th {\n",
       "        text-align: right;\n",
       "    }\n",
       "</style>\n",
       "<table border=\"1\" class=\"dataframe\">\n",
       "  <thead>\n",
       "    <tr style=\"text-align: right;\">\n",
       "      <th></th>\n",
       "      <th>y_hat</th>\n",
       "      <th>y</th>\n",
       "    </tr>\n",
       "  </thead>\n",
       "  <tbody>\n",
       "    <tr>\n",
       "      <th>0</th>\n",
       "      <td>0.00035</td>\n",
       "      <td>0</td>\n",
       "    </tr>\n",
       "    <tr>\n",
       "      <th>1</th>\n",
       "      <td>0.99990</td>\n",
       "      <td>1</td>\n",
       "    </tr>\n",
       "    <tr>\n",
       "      <th>2</th>\n",
       "      <td>0.98523</td>\n",
       "      <td>1</td>\n",
       "    </tr>\n",
       "    <tr>\n",
       "      <th>3</th>\n",
       "      <td>0.98357</td>\n",
       "      <td>0</td>\n",
       "    </tr>\n",
       "    <tr>\n",
       "      <th>4</th>\n",
       "      <td>1.00000</td>\n",
       "      <td>1</td>\n",
       "    </tr>\n",
       "    <tr>\n",
       "      <th>5</th>\n",
       "      <td>0.87010</td>\n",
       "      <td>1</td>\n",
       "    </tr>\n",
       "    <tr>\n",
       "      <th>6</th>\n",
       "      <td>0.99965</td>\n",
       "      <td>1</td>\n",
       "    </tr>\n",
       "    <tr>\n",
       "      <th>7</th>\n",
       "      <td>0.00000</td>\n",
       "      <td>0</td>\n",
       "    </tr>\n",
       "    <tr>\n",
       "      <th>8</th>\n",
       "      <td>0.99999</td>\n",
       "      <td>0</td>\n",
       "    </tr>\n",
       "    <tr>\n",
       "      <th>9</th>\n",
       "      <td>0.99899</td>\n",
       "      <td>1</td>\n",
       "    </tr>\n",
       "  </tbody>\n",
       "</table>\n",
       "</div>"
      ],
      "text/plain": [
       "    y_hat  y\n",
       "0 0.00035  0\n",
       "1 0.99990  1\n",
       "2 0.98523  1\n",
       "3 0.98357  0\n",
       "4 1.00000  1\n",
       "5 0.87010  1\n",
       "6 0.99965  1\n",
       "7 0.00000  0\n",
       "8 0.99999  0\n",
       "9 0.99899  1"
      ]
     },
     "execution_count": 10,
     "metadata": {},
     "output_type": "execute_result"
    }
   ],
   "source": [
    "pd.options.display.float_format = '{:.5f}'.format\n",
    "\n",
    "y_hat = model.predict_proba(x_test)\n",
    "\n",
    "float_y_hat = []\n",
    "for y in y_hat:\n",
    "    float_y_hat.append(y[0])\n",
    "    \n",
    "ydf = pd.DataFrame(list(zip(float_y_hat, y_test)), columns=['y_hat', 'y'])\n",
    "ydf['y_hat'] = ydf['y_hat'].astype('float32') \n",
    "\n",
    "ydf.head(10)"
   ]
  },
  {
   "cell_type": "markdown",
   "metadata": {},
   "source": [
    "<br>\n",
    "\n",
    "<br>\n",
    "\n",
    "### Negative reviews that were assigned positive"
   ]
  },
  {
   "cell_type": "code",
   "execution_count": 11,
   "metadata": {},
   "outputs": [
    {
     "name": "stdout",
     "output_type": "stream",
     "text": [
      "\n",
      "Number of negative reviews that were assigned positive: 865\n",
      "\n"
     ]
    },
    {
     "data": {
      "text/html": [
       "<div>\n",
       "<style scoped>\n",
       "    .dataframe tbody tr th:only-of-type {\n",
       "        vertical-align: middle;\n",
       "    }\n",
       "\n",
       "    .dataframe tbody tr th {\n",
       "        vertical-align: top;\n",
       "    }\n",
       "\n",
       "    .dataframe thead th {\n",
       "        text-align: right;\n",
       "    }\n",
       "</style>\n",
       "<table border=\"1\" class=\"dataframe\">\n",
       "  <thead>\n",
       "    <tr style=\"text-align: right;\">\n",
       "      <th></th>\n",
       "      <th>y_hat</th>\n",
       "      <th>y</th>\n",
       "    </tr>\n",
       "  </thead>\n",
       "  <tbody>\n",
       "    <tr>\n",
       "      <th>3</th>\n",
       "      <td>0.98357</td>\n",
       "      <td>0</td>\n",
       "    </tr>\n",
       "    <tr>\n",
       "      <th>8</th>\n",
       "      <td>0.99999</td>\n",
       "      <td>0</td>\n",
       "    </tr>\n",
       "    <tr>\n",
       "      <th>13</th>\n",
       "      <td>0.99839</td>\n",
       "      <td>0</td>\n",
       "    </tr>\n",
       "    <tr>\n",
       "      <th>17</th>\n",
       "      <td>0.95009</td>\n",
       "      <td>0</td>\n",
       "    </tr>\n",
       "    <tr>\n",
       "      <th>81</th>\n",
       "      <td>0.96939</td>\n",
       "      <td>0</td>\n",
       "    </tr>\n",
       "  </tbody>\n",
       "</table>\n",
       "</div>"
      ],
      "text/plain": [
       "     y_hat  y\n",
       "3  0.98357  0\n",
       "8  0.99999  0\n",
       "13 0.99839  0\n",
       "17 0.95009  0\n",
       "81 0.96939  0"
      ]
     },
     "execution_count": 11,
     "metadata": {},
     "output_type": "execute_result"
    }
   ],
   "source": [
    "mask = (ydf['y'] == 0) & (ydf['y_hat'] > 0.9)\n",
    "print(f'\\nNumber of negative reviews that were assigned positive: {len(ydf[mask])}\\n')\n",
    "ydf[mask].head()"
   ]
  },
  {
   "cell_type": "markdown",
   "metadata": {},
   "source": [
    "<br>\n",
    "\n",
    "<br>\n",
    "\n",
    "### Positive reviews that were assigned negative"
   ]
  },
  {
   "cell_type": "code",
   "execution_count": 12,
   "metadata": {},
   "outputs": [
    {
     "name": "stdout",
     "output_type": "stream",
     "text": [
      "\n",
      "Number of positive reviews that were assigned negative: 1104\n",
      "\n"
     ]
    },
    {
     "data": {
      "text/html": [
       "<div>\n",
       "<style scoped>\n",
       "    .dataframe tbody tr th:only-of-type {\n",
       "        vertical-align: middle;\n",
       "    }\n",
       "\n",
       "    .dataframe tbody tr th {\n",
       "        vertical-align: top;\n",
       "    }\n",
       "\n",
       "    .dataframe thead th {\n",
       "        text-align: right;\n",
       "    }\n",
       "</style>\n",
       "<table border=\"1\" class=\"dataframe\">\n",
       "  <thead>\n",
       "    <tr style=\"text-align: right;\">\n",
       "      <th></th>\n",
       "      <th>y_hat</th>\n",
       "      <th>y</th>\n",
       "    </tr>\n",
       "  </thead>\n",
       "  <tbody>\n",
       "    <tr>\n",
       "      <th>24</th>\n",
       "      <td>0.00007</td>\n",
       "      <td>1</td>\n",
       "    </tr>\n",
       "    <tr>\n",
       "      <th>31</th>\n",
       "      <td>0.01455</td>\n",
       "      <td>1</td>\n",
       "    </tr>\n",
       "    <tr>\n",
       "      <th>55</th>\n",
       "      <td>0.00211</td>\n",
       "      <td>1</td>\n",
       "    </tr>\n",
       "    <tr>\n",
       "      <th>82</th>\n",
       "      <td>0.00029</td>\n",
       "      <td>1</td>\n",
       "    </tr>\n",
       "    <tr>\n",
       "      <th>87</th>\n",
       "      <td>0.01683</td>\n",
       "      <td>1</td>\n",
       "    </tr>\n",
       "  </tbody>\n",
       "</table>\n",
       "</div>"
      ],
      "text/plain": [
       "     y_hat  y\n",
       "24 0.00007  1\n",
       "31 0.01455  1\n",
       "55 0.00211  1\n",
       "82 0.00029  1\n",
       "87 0.01683  1"
      ]
     },
     "execution_count": 12,
     "metadata": {},
     "output_type": "execute_result"
    }
   ],
   "source": [
    "mask = (ydf['y'] == 1) & (ydf['y_hat'] < 0.1)\n",
    "print(f'\\nNumber of positive reviews that were assigned negative: {len(ydf[mask])}\\n')\n",
    "\n",
    "ydf[mask].head()"
   ]
  },
  {
   "cell_type": "code",
   "execution_count": 13,
   "metadata": {},
   "outputs": [
    {
     "data": {
      "image/png": "[encoded data removed]",
      "text/plain": [
       "<Figure size 432x288 with 1 Axes>"
      ]
     },
     "metadata": {
      "needs_background": "light"
     },
     "output_type": "display_data"
    }
   ],
   "source": [
    "plt.hist(y_hat)\n",
    "_ = plt.axvline(x=0.5, color='orange')"
   ]
  },
  {
   "cell_type": "markdown",
   "metadata": {},
   "source": [
    "\n",
    "<br>\n",
    "\n",
    "<br>\n",
    "\n",
    "## Visualization using AUC"
   ]
  },
  {
   "cell_type": "code",
   "execution_count": 14,
   "metadata": {},
   "outputs": [
    {
     "name": "stdout",
     "output_type": "stream",
     "text": [
      "AUC: 95.23\n",
      "\n",
      "\n"
     ]
    },
    {
     "data": {
      "image/png": "[encoded data removed]",
      "text/plain": [
       "<Figure size 576x432 with 1 Axes>"
      ]
     },
     "metadata": {
      "needs_background": "light"
     },
     "output_type": "display_data"
    }
   ],
   "source": [
    "pct_auc = roc_auc_score(y_test, y_hat)*100.0\n",
    "print(f'AUC: {pct_auc:0.2f}\\n\\n')\n",
    "\n",
    "plt.figure(figsize=(8,6))\n",
    "\n",
    "fpr, tpr, threshold = roc_curve(y_test, y_hat)\n",
    "roc_auc = auc(fpr, tpr)\n",
    "\n",
    "plt.title('Receiver Operating Characteristic')\n",
    "plt.plot(fpr, tpr, 'b', label = f'AUC = {roc_auc:0.2f}')\n",
    "plt.legend(loc = 'lower right')\n",
    "plt.plot([0, 1], [0, 1],'r--')\n",
    "plt.xlim([0, 1])\n",
    "plt.ylim([0, 1])\n",
    "plt.ylabel('True Positive Rate')\n",
    "plt.xlabel('False Positive Rate')\n",
    "plt.show()"
   ]
  },
  {
   "cell_type": "markdown",
   "metadata": {},
   "source": [
    "<br>\n",
    "\n",
    "---\n",
    "\n",
    "<br>"
   ]
  }
 ],
 "metadata": {
  "kernelspec": {
   "display_name": "Python 3",
   "language": "python",
   "name": "python3"
  },
  "language_info": {
   "codemirror_mode": {
    "name": "ipython",
    "version": 3
   },
   "file_extension": ".py",
   "mimetype": "text/x-python",
   "name": "python",
   "nbconvert_exporter": "python",
   "pygments_lexer": "ipython3",
   "version": "3.7.7"
  }
 },
 "nbformat": 4,
 "nbformat_minor": 4
}
