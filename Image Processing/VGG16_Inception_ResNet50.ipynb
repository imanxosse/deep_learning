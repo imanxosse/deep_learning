{
  "nbformat": 4,
  "nbformat_minor": 0,
  "metadata": {
    "colab": {
      "name": "VGG16_Inception_ResNet50.ipynb",
      "provenance": [],
      "toc_visible": true
    },
    "kernelspec": {
      "name": "python3",
      "display_name": "Python 3"
    },
    "accelerator": "GPU"
  },
  "cells": [
    {
      "cell_type": "markdown",
      "metadata": {
        "id": "P0wzvOxT_PWL",
        "colab_type": "text"
      },
      "source": [
        "# Compare VGG16, Inception_V3 and ResNet50"
      ]
    },
    {
      "cell_type": "code",
      "metadata": {
        "id": "74plsMa998gG",
        "colab_type": "code",
        "colab": {}
      },
      "source": [
        "import tensorflow as tf\n",
        "from tensorflow.keras.preprocessing import image\n",
        "from tensorflow.keras.applications.resnet50 import preprocess_input, decode_predictions\n",
        "from tensorflow.keras.applications import vgg16, inception_v3, resnet50\n",
        "\n",
        "from google.colab.patches import cv2_imshow\n",
        "import numpy as np\n",
        "from os import listdir\n",
        "from os.path import isfile, join\n",
        "import cv2"
      ],
      "execution_count": 0,
      "outputs": []
    },
    {
      "cell_type": "markdown",
      "metadata": {
        "id": "AjdYhZ3u-reQ",
        "colab_type": "text"
      },
      "source": [
        "<br>\n",
        "\n",
        "<br>\n",
        "\n",
        "\n",
        "### Load VGG16, Inception_V3 and ResNet50"
      ]
    },
    {
      "cell_type": "code",
      "metadata": {
        "id": "b3qkp-Ou-fAM",
        "colab_type": "code",
        "colab": {
          "base_uri": "https://localhost:8080/",
          "height": 125
        },
        "outputId": "28095b27-b5f5-43ac-ae22-31eda124c55e"
      },
      "source": [
        "resnet_model = resnet50.ResNet50(weights='imagenet')\n",
        "\n",
        "inception_model = inception_v3.InceptionV3(weights='imagenet') \n",
        "\n",
        "vgg_model = vgg16.VGG16(weights='imagenet')\n"
      ],
      "execution_count": 4,
      "outputs": [
        {
          "output_type": "stream",
          "text": [
            "Downloading data from https://storage.googleapis.com/tensorflow/keras-applications/resnet/resnet50_weights_tf_dim_ordering_tf_kernels.h5\n",
            "102973440/102967424 [==============================] - 1s 0us/step\n",
            "Downloading data from https://storage.googleapis.com/tensorflow/keras-applications/inception_v3/inception_v3_weights_tf_dim_ordering_tf_kernels.h5\n",
            "96116736/96112376 [==============================] - 1s 0us/step\n",
            "Downloading data from https://storage.googleapis.com/tensorflow/keras-applications/vgg16/vgg16_weights_tf_dim_ordering_tf_kernels.h5\n",
            "553467904/553467096 [==============================] - 7s 0us/step\n"
          ],
          "name": "stdout"
        }
      ]
    },
    {
      "cell_type": "code",
      "metadata": {
        "id": "v9NKto-pBW4g",
        "colab_type": "code",
        "colab": {
          "base_uri": "https://localhost:8080/",
          "height": 71
        },
        "outputId": "932bbebc-dfff-46be-f7a2-6d4dd9ea252f"
      },
      "source": [
        "img_path = './images/3.jpg' \n",
        "\n",
        "img = image.load_img(img_path, target_size=(224, 224))\n",
        "x = image.img_to_array(img)\n",
        "x = np.expand_dims(x, axis=0)\n",
        "x = preprocess_input(x)\n",
        "\n",
        "resnet_preds = resnet_model.predict(x)\n",
        "print('ResNet50 Predicted:', decode_predictions(resnet_preds, top=3)[0])\n",
        "\n",
        "inception_pred  = inception_model.predict(x)\n",
        "print('Inception Predicted:', decode_predictions(inception_pred, top=3)[0])\n",
        "\n",
        "vgg_pred = vgg_model.predict(x)\n",
        "print('VGG16 Predicted:', decode_predictions(vgg_pred, top=3)[0])"
      ],
      "execution_count": 11,
      "outputs": [
        {
          "output_type": "stream",
          "text": [
            "ResNet50 Predicted: [('n01944390', 'snail', 0.9987161), ('n01945685', 'slug', 0.0012514578), ('n01943899', 'conch', 3.1402895e-05)]\n",
            "Inception Predicted: [('n04286575', 'spotlight', 0.9907183), ('n03950228', 'pitcher', 0.008793891), ('n02442845', 'mink', 0.0004831076)]\n",
            "VGG16 Predicted: [('n01944390', 'snail', 0.9323743), ('n01945685', 'slug', 0.06206283), ('n12267677', 'acorn', 0.0050168424)]\n"
          ],
          "name": "stdout"
        }
      ]
    },
    {
      "cell_type": "code",
      "metadata": {
        "id": "R9wcbVJY-5x-",
        "colab_type": "code",
        "colab": {}
      },
      "source": [
        "mypath = \"./images/\"\n",
        "file_names = [f for f in listdir(mypath) if isfile(join(mypath, f))]\n",
        "\n",
        "def draw_test(name, preditions, input_im):\n",
        "    \"\"\"Function displays the output of the prediction alongside the orignal image\"\"\"\n",
        "    BLACK = [0,0,0]\n",
        "    expanded_image = cv2.copyMakeBorder(input_im, 0, 0, 0, imageL.shape[1]+300 ,cv2.BORDER_CONSTANT,value=BLACK)\n",
        "    img_width = input_im.shape[1]\n",
        "    for (i,predition) in enumerate(preditions):\n",
        "        string = str(predition[1]) + \" \" + str(predition[2])\n",
        "        cv2.putText(expanded_image,str(name),(img_width + 50,50),cv2.FONT_HERSHEY_COMPLEX_SMALL,2,(0,0,255),1)\n",
        "        cv2.putText(expanded_image,string,(img_width + 50,50+((i+1)*50)),cv2.FONT_HERSHEY_COMPLEX_SMALL,2,(0,255,0),1)\n",
        "    # cv2_imshow(name, expanded_image)\n",
        "    cv2_imshow(expanded_image)\n",
        "\n",
        "# Loop through images run them through our classifer\n",
        "for file in file_names:\n",
        "\n",
        "    from keras.preprocessing import image # Need to reload as opencv2 seems to have a conflict\n",
        "    img = image.load_img(mypath+file, target_size=(224, 224))\n",
        "    x = image.img_to_array(img)\n",
        "    x = np.expand_dims(x, axis=0)\n",
        "    x = preprocess_input(x)\n",
        "    \n",
        "    #load image using opencv\n",
        "    img2 = cv2.imread(mypath+file)\n",
        "    imageL = cv2.resize(img2, None, fx=.5, fy=.5, interpolation = cv2.INTER_CUBIC) \n",
        "    \n",
        "    # VGG16 Predictions\n",
        "    preds_vgg_model = vgg_model.predict(x)\n",
        "    preditions_vgg = decode_predictions(preds_vgg_model, top=3)[0]\n",
        "    draw_test(\"VGG16 Predictions\", preditions_vgg, imageL) \n",
        "    \n",
        "    # Inception_V3 Predictions\n",
        "    preds_inception = inception_model.predict(x)\n",
        "    preditions_inception = decode_predictions(preds_inception, top=3)[0]\n",
        "    draw_test(\"Inception_V3 Predictions\", preditions_inception, imageL) \n",
        "\n",
        "    # ResNet50 Predictions\n",
        "    preds_resnet = resnet_model.predict(x)\n",
        "    preditions_resnet = decode_predictions(preds_resnet, top=3)[0]\n",
        "    draw_test(\"ResNet50 Predictions\", preditions_resnet, imageL) \n",
        "    \n",
        "    cv2.waitKey(0)\n",
        "\n",
        "cv2.destroyAllWindows()\n"
      ],
      "execution_count": 0,
      "outputs": []
    },
    {
      "cell_type": "markdown",
      "metadata": {
        "id": "c-50--V1C7jz",
        "colab_type": "text"
      },
      "source": [
        "<br>\n",
        "\n",
        "---\n",
        "\n",
        "<br>\n"
      ]
    }
  ]
}