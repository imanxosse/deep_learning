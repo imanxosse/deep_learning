{
 "cells": [
  {
   "cell_type": "markdown",
   "metadata": {},
   "source": [
    "<br>\n",
    "\n",
    "<br>\n",
    "\n",
    "# Confusion Matrix and Misclassified Data"
   ]
  },
  {
   "cell_type": "code",
   "execution_count": 1,
   "metadata": {},
   "outputs": [],
   "source": [
    "import tensorflow as tf\n",
    "import cv2\n",
    "import numpy as np\n",
    "from sklearn.metrics import classification_report,confusion_matrix\n",
    "import matplotlib.pyplot as plt\n",
    "\n",
    "%matplotlib inline"
   ]
  },
  {
   "cell_type": "code",
   "execution_count": 2,
   "metadata": {},
   "outputs": [
    {
     "name": "stdout",
     "output_type": "stream",
     "text": [
      "x_train shape: (60000, 28, 28, 1)\n",
      "60000 train samples\n",
      "10000 test samples\n",
      "Number of Classes: 10\n",
      "Model: \"sequential\"\n",
      "_________________________________________________________________\n",
      "Layer (type)                 Output Shape              Param #   \n",
      "=================================================================\n",
      "conv2d (Conv2D)              (None, 26, 26, 32)        320       \n",
      "_________________________________________________________________\n",
      "conv2d_1 (Conv2D)            (None, 24, 24, 64)        18496     \n",
      "_________________________________________________________________\n",
      "max_pooling2d (MaxPooling2D) (None, 12, 12, 64)        0         \n",
      "_________________________________________________________________\n",
      "dropout (Dropout)            (None, 12, 12, 64)        0         \n",
      "_________________________________________________________________\n",
      "flatten (Flatten)            (None, 9216)              0         \n",
      "_________________________________________________________________\n",
      "dense (Dense)                (None, 128)               1179776   \n",
      "_________________________________________________________________\n",
      "dropout_1 (Dropout)          (None, 128)               0         \n",
      "_________________________________________________________________\n",
      "dense_1 (Dense)              (None, 10)                1290      \n",
      "=================================================================\n",
      "Total params: 1,199,882\n",
      "Trainable params: 1,199,882\n",
      "Non-trainable params: 0\n",
      "_________________________________________________________________\n",
      "None\n",
      "Train on 54000 samples, validate on 6000 samples\n",
      "Epoch 1/6\n",
      "54000/54000 [==============================] - 46s 859us/sample - loss: 2.2961 - accuracy: 0.1131 - val_loss: 2.2681 - val_accuracy: 0.2082\n",
      "Epoch 2/6\n",
      "54000/54000 [==============================] - 49s 909us/sample - loss: 2.2549 - accuracy: 0.1865 - val_loss: 2.2192 - val_accuracy: 0.3387\n",
      "Epoch 3/6\n",
      "54000/54000 [==============================] - 48s 894us/sample - loss: 2.2071 - accuracy: 0.2600 - val_loss: 2.1575 - val_accuracy: 0.4408\n",
      "Epoch 4/6\n",
      "54000/54000 [==============================] - 50s 935us/sample - loss: 2.1453 - accuracy: 0.3368 - val_loss: 2.0753 - val_accuracy: 0.5462\n",
      "Epoch 5/6\n",
      "54000/54000 [==============================] - 52s 957us/sample - loss: 2.0632 - accuracy: 0.4105 - val_loss: 1.9683 - val_accuracy: 0.6407\n",
      "Epoch 6/6\n",
      "54000/54000 [==============================] - 48s 897us/sample - loss: 1.9591 - accuracy: 0.4764 - val_loss: 1.8343 - val_accuracy: 0.6977\n",
      "Test loss: 1.8485869731903075\n",
      "Test accuracy: 0.6769\n"
     ]
    }
   ],
   "source": [
    "# Training Hyperparameters\n",
    "batch_size = 128\n",
    "epochs = 6\n",
    "\n",
    "# loads the MNIST dataset\n",
    "(x_train, y_train), (x_test, y_test)  = tf.keras.datasets.mnist.load_data()\n",
    "\n",
    "# Lets store the number of rows and columns\n",
    "img_rows = x_train[0].shape[0]\n",
    "img_cols = x_train[1].shape[0]\n",
    "\n",
    " \n",
    "# Changing the original image shape of (60000,28,28) to (60000,28,28,1)\n",
    "x_train = x_train.reshape(x_train.shape[0], img_rows, img_cols, 1)\n",
    "x_test = x_test.reshape(x_test.shape[0], img_rows, img_cols, 1)\n",
    "\n",
    "# store the shape of a single image \n",
    "input_shape = (img_rows, img_cols, 1)\n",
    "\n",
    "# change our image type to float32 data type\n",
    "x_train = x_train.astype('float32')\n",
    "x_test = x_test.astype('float32')\n",
    "\n",
    "# Normalize our data by changing the range from (0 to 255) to (0 to 1)\n",
    "x_train /= 255\n",
    "x_test /= 255\n",
    "\n",
    "print('x_train shape:', x_train.shape)\n",
    "print(x_train.shape[0], 'train samples')\n",
    "print(x_test.shape[0], 'test samples')\n",
    "\n",
    "# Now we one hot encode outputs\n",
    "y_train = tf.keras.utils.to_categorical(y_train)\n",
    "y_test =  tf.keras.utils.to_categorical(y_test)\n",
    "\n",
    "# Let's count the number columns in our hot encoded matrix \n",
    "print (\"Number of Classes: \" + str(y_test.shape[1]))\n",
    "\n",
    "num_classes = y_test.shape[1]\n",
    "num_pixels = x_train.shape[1] * x_train.shape[2]\n",
    "\n",
    "# create model\n",
    "model = tf.keras.models.Sequential()\n",
    "\n",
    "model.add(tf.keras.layers.Conv2D(filters=32, \n",
    "                                 kernel_size=(3, 3),\n",
    "                                 padding='valid',\n",
    "                                 strides=(1,1),                                 \n",
    "                                 activation='relu',\n",
    "                                 input_shape=input_shape))\n",
    "model.add(tf.keras.layers.Conv2D(filters=64, \n",
    "                                 kernel_size=(3, 3), \n",
    "                                 activation='relu'))\n",
    "model.add(tf.keras.layers.MaxPooling2D(pool_size=(2, 2)))\n",
    "model.add(tf.keras.layers.Dropout(0.25))\n",
    "model.add(tf.keras.layers.Flatten())\n",
    "model.add(tf.keras.layers.Dense(units=128, activation='relu'))\n",
    "model.add(tf.keras.layers.Dropout(0.5))\n",
    "model.add(tf.keras.layers.Dense(units=num_classes, activation='softmax'))\n",
    "\n",
    "model.compile(loss = 'categorical_crossentropy',\n",
    "              optimizer = tf.keras.optimizers.Adadelta(),\n",
    "              metrics = ['accuracy'])\n",
    "\n",
    "print(model.summary())\n",
    "\n",
    "history = model.fit(x_train, \n",
    "                    y_train,\n",
    "                    batch_size=batch_size,\n",
    "                    epochs=epochs,\n",
    "                    verbose=1,\n",
    "                    validation_split=0.1)\n",
    "\n",
    "score = model.evaluate(x_test, y_test, verbose=0)\n",
    "print('Test loss:', score[0])\n",
    "print('Test accuracy:', score[1])"
   ]
  },
  {
   "cell_type": "markdown",
   "metadata": {},
   "source": [
    "<br>\n",
    "\n",
    "<br>\n",
    "\n",
    "## Plotting loss and accuracy "
   ]
  },
  {
   "cell_type": "code",
   "execution_count": 3,
   "metadata": {},
   "outputs": [
    {
     "data": {
      "image/png": "[encoded data removed]",
      "text/plain": [
       "<Figure size 720x576 with 1 Axes>"
      ]
     },
     "metadata": {
      "needs_background": "light"
     },
     "output_type": "display_data"
    }
   ],
   "source": [
    "# Plotting the loss\n",
    "\n",
    "plt.figure(figsize=(10,8))\n",
    "history_dict = history.history   \n",
    "\n",
    "loss_values = history_dict['loss']\n",
    "val_loss_values = history_dict['val_loss']\n",
    "epochs = range(1, len(loss_values) + 1)\n",
    "\n",
    "line1 = plt.plot(epochs, val_loss_values, label='Validation Loss')\n",
    "line2 = plt.plot(epochs, loss_values, label='Training Loss')\n",
    "plt.setp(line1, linewidth=2.0, marker = '+', markersize=10.0)\n",
    "plt.setp(line2, linewidth=2.0, marker = '4', markersize=10.0)\n",
    "plt.xlabel('Epochs', fontsize=12) \n",
    "plt.ylabel('Loss', fontsize=12)\n",
    "plt.grid(True)\n",
    "plt.legend(loc='best', fontsize=12)\n",
    "plt.show()"
   ]
  },
  {
   "cell_type": "code",
   "execution_count": 6,
   "metadata": {},
   "outputs": [
    {
     "data": {
      "image/png": "[encoded data removed]",
      "text/plain": [
       "<Figure size 720x576 with 1 Axes>"
      ]
     },
     "metadata": {
      "needs_background": "light"
     },
     "output_type": "display_data"
    }
   ],
   "source": [
    "# Plotting the accuracy\n",
    "\n",
    "plt.figure(figsize=(10,8))\n",
    "\n",
    "history_dict = history.history\n",
    "\n",
    "acc_values = history_dict['accuracy']\n",
    "val_acc_values = history_dict['val_accuracy']\n",
    "epochs = range(1, len(loss_values) + 1)\n",
    "\n",
    "line1 = plt.plot(epochs, val_acc_values, label='Validation Accuracy')\n",
    "line2 = plt.plot(epochs, acc_values, label='Training Accuracy')\n",
    "plt.setp(line1, linewidth=2.0, marker = '+', markersize=10.0)\n",
    "plt.setp(line2, linewidth=2.0, marker = '4', markersize=10.0)\n",
    "plt.xlabel('Epochs', fontsize=12) \n",
    "plt.ylabel('Accuracy', fontsize=12)\n",
    "plt.grid(True)\n",
    "plt.legend(loc='upper left', fontsize=12)\n",
    "plt.show()"
   ]
  },
  {
   "cell_type": "markdown",
   "metadata": {},
   "source": [
    "<br>\n",
    "\n",
    "<br>\n",
    "\n",
    "## Confusion Matrix and Classification Report"
   ]
  },
  {
   "cell_type": "code",
   "execution_count": 7,
   "metadata": {},
   "outputs": [
    {
     "name": "stdout",
     "output_type": "stream",
     "text": [
      "              precision    recall  f1-score   support\n",
      "\n",
      "           0       0.56      0.98      0.71       980\n",
      "           1       0.90      0.86      0.88      1135\n",
      "           2       0.72      0.83      0.77      1032\n",
      "           3       0.75      0.73      0.74      1010\n",
      "           4       0.95      0.48      0.64       982\n",
      "           5       0.56      0.08      0.14       892\n",
      "           6       0.93      0.67      0.78       958\n",
      "           7       0.66      0.82      0.73      1028\n",
      "           8       0.42      0.84      0.56       974\n",
      "           9       0.79      0.39      0.52      1009\n",
      "\n",
      "    accuracy                           0.68     10000\n",
      "   macro avg       0.72      0.67      0.65     10000\n",
      "weighted avg       0.73      0.68      0.66     10000\n",
      "\n",
      "[[958   0   0   3   0   0   1   1  17   0]\n",
      " [  0 980  11   6   0  25   3   0 110   0]\n",
      " [ 71   1 853  18   1   0   7  11  69   1]\n",
      " [ 79   4  32 741   0  14   3  13 121   3]\n",
      " [ 70  39  93   2 471   7  21  69 131  79]\n",
      " [196   0  17 163   4  74   8   3 418   9]\n",
      " [183  32  70   2   4   1 639   0  27   0]\n",
      " [ 29  15  16   2   1   1   1 843 108  12]\n",
      " [ 52   4  37  37   2   2   4  17 816   3]\n",
      " [ 66  15  50   9  15   8   1 312 139 394]]\n"
     ]
    }
   ],
   "source": [
    "y_pred = model.predict_classes(x_test)\n",
    "\n",
    "print(classification_report(np.argmax(y_test,axis=1), y_pred))\n",
    "print(confusion_matrix(np.argmax(y_test,axis=1), y_pred))"
   ]
  },
  {
   "cell_type": "markdown",
   "metadata": {},
   "source": [
    "<br>\n",
    "\n",
    "<br>\n",
    "\n",
    "## Display misclassified data"
   ]
  },
  {
   "cell_type": "code",
   "execution_count": 16,
   "metadata": {},
   "outputs": [
    {
     "name": "stdout",
     "output_type": "stream",
     "text": [
      "Indices of misclassifed data are:\n",
      "[[   6    8    9 ... 9997 9998 9999]] \n",
      "\n",
      "\n",
      "The number of misclassifed data is: 3231\n",
      "\n",
      "Last twenty misclassifed data:\n",
      "[[9953 9954 9955 9958 9960 9965 9970 9973 9975 9977 9978 9980 9982 9985\n",
      "  9986 9987 9992 9997 9998 9999]]\n",
      "\n",
      "\n",
      "The last 20 misclassified MNIST digits:\n",
      "\n",
      "Actual label: 6          Predicted label: 0\n",
      "Actual label: 2          Predicted label: 0\n",
      "Actual label: 1          Predicted label: 8\n",
      "Actual label: 7          Predicted label: 8\n",
      "Actual label: 4          Predicted label: 7\n",
      "Actual label: 3          Predicted label: 8\n",
      "Actual label: 5          Predicted label: 3\n",
      "Actual label: 9          Predicted label: 7\n",
      "Actual label: 3          Predicted label: 2\n",
      "Actual label: 4          Predicted label: 8\n",
      "Actual label: 1          Predicted label: 8\n",
      "Actual label: 2          Predicted label: 0\n",
      "Actual label: 5          Predicted label: 6\n",
      "Actual label: 2          Predicted label: 8\n",
      "Actual label: 3          Predicted label: 8\n",
      "Actual label: 4          Predicted label: 8\n",
      "Actual label: 9          Predicted label: 7\n",
      "Actual label: 4          Predicted label: 8\n",
      "Actual label: 5          Predicted label: 8\n",
      "Actual label: 6          Predicted label: 0\n"
     ]
    }
   ],
   "source": [
    "# loads the MNIST dataset\n",
    "(x_train, y_train), (x_test, y_test)  = tf.keras.datasets.mnist.load_data()\n",
    "\n",
    "# Use numpy to create an array that stores a value of 1 when a misclassification occurs\n",
    "result = np.absolute(y_test - y_pred)\n",
    "result_indices = np.array(np.nonzero(result > 0))\n",
    "\n",
    "#  Display the indices of mislassifications\n",
    "print(f\"Indices of misclassifed data are:\\n{result_indices} \\n\\n\")\n",
    "print(f\"The number of misclassifed data is: {result_indices.shape[1]}\\n\")\n",
    "print(f\"Last twenty misclassifed data:\\n{result_indices[:, -20:]}\\n\\n\")\n",
    "\n",
    "# The last 20 misclassified MNIST digits\n",
    "print('The last 20 misclassified MNIST digits:\\n')\n",
    "misclassified_index = result_indices[:, -20:]\n",
    "for mi in np.nditer(misclassified_index):\n",
    "    print(f'Actual label: {y_test[mi]:<10} Predicted label: {y_pred[mi]}')"
   ]
  },
  {
   "cell_type": "markdown",
   "metadata": {},
   "source": [
    "<br>\n",
    "\n",
    "<br>\n",
    "\n",
    "## Displaying the misclassifications"
   ]
  },
  {
   "cell_type": "code",
   "execution_count": 17,
   "metadata": {},
   "outputs": [],
   "source": [
    "def draw_test(name, pred, input_im, true_label):\n",
    "    BLACK = [0,0,0]\n",
    "    expanded_image = cv2.copyMakeBorder(input_im, 0, 0, 0, imageL.shape[0]*2 ,cv2.BORDER_CONSTANT,value=BLACK)\n",
    "    expanded_image = cv2.cvtColor(expanded_image, cv2.COLOR_GRAY2BGR)\n",
    "    cv2.putText(expanded_image, str(pred), (152, 70) , cv2.FONT_HERSHEY_COMPLEX_SMALL,4, (0,255,0), 2)\n",
    "    cv2.putText(expanded_image, str(true_label), (250, 70) , cv2.FONT_HERSHEY_COMPLEX_SMALL,4, (0,0,255), 2)\n",
    "    cv2.imshow(name, expanded_image)\n",
    "\n",
    "for i in range(0,10):\n",
    "\n",
    "    input_im = x_test[result_indices[0][i]]\n",
    "    #print(y_test[result_indices[0][i]])\n",
    "    imageL = cv2.resize(input_im, None, fx=4, fy=4, interpolation = cv2.INTER_CUBIC) \n",
    "    input_im = input_im.reshape(1,28,28,1) \n",
    "    \n",
    "    ## Get Prediction\n",
    "    res = str(model.predict_classes(input_im, 1, verbose = 0)[0])\n",
    "    draw_test(\"Prediction\", res, imageL, y_test[result_indices[0][i]]) \n",
    "    cv2.waitKey(0)\n",
    "\n",
    "cv2.destroyAllWindows()"
   ]
  },
  {
   "cell_type": "markdown",
   "metadata": {},
   "source": [
    "<br>\n",
    "\n",
    "<br>\n",
    "\n",
    "---"
   ]
  }
 ],
 "metadata": {
  "kernelspec": {
   "display_name": "Python 3",
   "language": "python",
   "name": "python3"
  },
  "language_info": {
   "codemirror_mode": {
    "name": "ipython",
    "version": 3
   },
   "file_extension": ".py",
   "mimetype": "text/x-python",
   "name": "python",
   "nbconvert_exporter": "python",
   "pygments_lexer": "ipython3",
   "version": "3.7.7"
  }
 },
 "nbformat": 4,
 "nbformat_minor": 4
}
