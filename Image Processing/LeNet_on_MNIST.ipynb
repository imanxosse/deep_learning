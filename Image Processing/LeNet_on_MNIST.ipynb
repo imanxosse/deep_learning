{
 "cells": [
  {
   "cell_type": "markdown",
   "metadata": {
    "colab_type": "text",
    "id": "Sws6uq9cueBJ"
   },
   "source": [
    "<br>\n",
    "\n",
    "# LeNet \n",
    "\n",
    "#### LeNet on MNIST data"
   ]
  },
  {
   "cell_type": "markdown",
   "metadata": {
    "colab": {},
    "colab_type": "code",
    "id": "L067D0ieuj4m"
   },
   "source": [
    "### Download the MNIST data and do data preprocessing "
   ]
  },
  {
   "cell_type": "code",
   "execution_count": 0,
   "metadata": {
    "colab": {},
    "colab_type": "code",
    "id": "0_MDotaJugXh"
   },
   "outputs": [],
   "source": [
    "# Load tensorflow\n",
    "import tensorflow as tf\n",
    "\n",
    "# loads the MNIST dataset\n",
    "(x_train, y_train), (x_test, y_test)  = tf.keras.datasets.mnist.load_data()\n",
    "\n",
    "# Lets store the number of rows and columns\n",
    "img_rows = x_train[0].shape[0]\n",
    "img_cols = x_train[1].shape[0]\n",
    "\n",
    "# Getting our date in the right 'shape' needed for Keras\n",
    "# We need to add a 4th dimenion to our date thereby changing our\n",
    "# Our original image shape of (60000,28,28) to (60000,28,28,1)\n",
    "x_train = x_train.reshape(x_train.shape[0], img_rows, img_cols, 1)\n",
    "x_test = x_test.reshape(x_test.shape[0], img_rows, img_cols, 1)\n",
    "\n",
    "# store the shape of a single image \n",
    "input_shape = (img_rows, img_cols, 1)\n",
    "\n",
    "# change our image type to float32 data type\n",
    "x_train = x_train.astype('float32')\n",
    "x_test = x_test.astype('float32')\n",
    "\n",
    "# Normalize our data by changing the range from (0 to 255) to (0 to 1)\n",
    "x_train /= 255\n",
    "x_test /= 255\n",
    "\n",
    "# Now we one hot encode outputs\n",
    "y_train = tf.keras.utils.to_categorical(y_train)\n",
    "y_test = tf.keras.utils.to_categorical(y_test)\n",
    "\n",
    "num_classes = y_test.shape[1]\n",
    "num_pixels = x_train.shape[1] * x_train.shape[2]"
   ]
  },
  {
   "cell_type": "markdown",
   "metadata": {
    "colab_type": "text",
    "id": "h-XIWtwmueBX"
   },
   "source": [
    "<br>\n",
    "\n",
    "### LeNet Architecture"
   ]
  },
  {
   "cell_type": "code",
   "execution_count": 0,
   "metadata": {
    "colab": {
     "base_uri": "https://localhost:8080/",
     "height": 575
    },
    "colab_type": "code",
    "id": "fRv95fzBueBY",
    "outputId": "e33479eb-3952-45c9-baf2-8df6110d790f"
   },
   "outputs": [
    {
     "name": "stdout",
     "output_type": "stream",
     "text": [
      "Model: \"sequential\"\n",
      "_________________________________________________________________\n",
      "Layer (type)                 Output Shape              Param #   \n",
      "=================================================================\n",
      "conv2d (Conv2D)              (None, 28, 28, 20)        520       \n",
      "_________________________________________________________________\n",
      "activation (Activation)      (None, 28, 28, 20)        0         \n",
      "_________________________________________________________________\n",
      "max_pooling2d (MaxPooling2D) (None, 14, 14, 20)        0         \n",
      "_________________________________________________________________\n",
      "conv2d_1 (Conv2D)            (None, 14, 14, 50)        25050     \n",
      "_________________________________________________________________\n",
      "activation_1 (Activation)    (None, 14, 14, 50)        0         \n",
      "_________________________________________________________________\n",
      "max_pooling2d_1 (MaxPooling2 (None, 7, 7, 50)          0         \n",
      "_________________________________________________________________\n",
      "flatten (Flatten)            (None, 2450)              0         \n",
      "_________________________________________________________________\n",
      "dense (Dense)                (None, 500)               1225500   \n",
      "_________________________________________________________________\n",
      "activation_2 (Activation)    (None, 500)               0         \n",
      "_________________________________________________________________\n",
      "dense_1 (Dense)              (None, 10)                5010      \n",
      "_________________________________________________________________\n",
      "activation_3 (Activation)    (None, 10)                0         \n",
      "=================================================================\n",
      "Total params: 1,256,080\n",
      "Trainable params: 1,256,080\n",
      "Non-trainable params: 0\n",
      "_________________________________________________________________\n",
      "None\n"
     ]
    }
   ],
   "source": [
    "# create model\n",
    "model = tf.keras.models.Sequential()\n",
    "\n",
    "# 2 sets of CRP (Convolution, RELU, Pooling)\n",
    "model.add(tf.keras.layers.Conv2D(filters=20, \n",
    "                                 kernel_size=(5, 5),\n",
    "                                 padding = \"same\", \n",
    "                                 strides=(1,1),\n",
    "                                 input_shape = input_shape))\n",
    "model.add(tf.keras.layers.Activation(\"relu\"))\n",
    "model.add(tf.keras.layers.MaxPooling2D(pool_size = (2, 2), \n",
    "                                       strides = (2, 2)))\n",
    "\n",
    "model.add(tf.keras.layers.Conv2D(filters=50, \n",
    "                                 kernel_size=(5, 5),\n",
    "                                 padding = \"same\",\n",
    "                                 strides=(1,1)))\n",
    "model.add(tf.keras.layers.Activation(\"relu\"))\n",
    "model.add(tf.keras.layers.MaxPooling2D(pool_size = (2, 2), \n",
    "                                       strides = (2, 2)))\n",
    "\n",
    "# Fully connected layers (w/ RELU)\n",
    "model.add(tf.keras.layers.Flatten())\n",
    "model.add(tf.keras.layers.Dense(units=500))\n",
    "model.add(tf.keras.layers.Activation(\"relu\"))\n",
    "\n",
    "# Softmax (for classification)\n",
    "model.add(tf.keras.layers.Dense(units=num_classes))\n",
    "model.add(tf.keras.layers.Activation(\"softmax\"))\n",
    "           \n",
    "model.compile(loss = 'categorical_crossentropy',\n",
    "              optimizer = tf.keras.optimizers.Adadelta(),\n",
    "              metrics = ['accuracy'])\n",
    "    \n",
    "print(model.summary())"
   ]
  },
  {
   "cell_type": "markdown",
   "metadata": {
    "colab_type": "text",
    "id": "CxQLqUYRueBj"
   },
   "source": [
    "<br>\n",
    "\n",
    "### Train"
   ]
  },
  {
   "cell_type": "code",
   "execution_count": 0,
   "metadata": {
    "colab": {
     "base_uri": "https://localhost:8080/",
     "height": 791
    },
    "colab_type": "code",
    "id": "KxGmSfirueBk",
    "outputId": "c8007e1a-d67d-4734-c444-d4a1ce2966ba",
    "scrolled": true
   },
   "outputs": [
    {
     "name": "stdout",
     "output_type": "stream",
     "text": [
      "Epoch 1/20\n",
      "844/844 [==============================] - 7s 9ms/step - loss: 2.2640 - accuracy: 0.2182 - val_loss: 2.1965 - val_accuracy: 0.4102\n",
      "Epoch 2/20\n",
      "844/844 [==============================] - 7s 8ms/step - loss: 2.1291 - accuracy: 0.5212 - val_loss: 2.0407 - val_accuracy: 0.6283\n",
      "Epoch 3/20\n",
      "844/844 [==============================] - 7s 8ms/step - loss: 1.9484 - accuracy: 0.6415 - val_loss: 1.8142 - val_accuracy: 0.6972\n",
      "Epoch 4/20\n",
      "844/844 [==============================] - 7s 8ms/step - loss: 1.6937 - accuracy: 0.6904 - val_loss: 1.5151 - val_accuracy: 0.7518\n",
      "Epoch 5/20\n",
      "844/844 [==============================] - 7s 8ms/step - loss: 1.3962 - accuracy: 0.7345 - val_loss: 1.2053 - val_accuracy: 0.7980\n",
      "Epoch 6/20\n",
      "844/844 [==============================] - 7s 8ms/step - loss: 1.1259 - accuracy: 0.7676 - val_loss: 0.9531 - val_accuracy: 0.8250\n",
      "Epoch 7/20\n",
      "844/844 [==============================] - 8s 10ms/step - loss: 0.9212 - accuracy: 0.7942 - val_loss: 0.7724 - val_accuracy: 0.8503\n",
      "Epoch 8/20\n",
      "844/844 [==============================] - 8s 10ms/step - loss: 0.7779 - accuracy: 0.8167 - val_loss: 0.6478 - val_accuracy: 0.8688\n",
      "Epoch 9/20\n",
      "844/844 [==============================] - 7s 9ms/step - loss: 0.6774 - accuracy: 0.8340 - val_loss: 0.5605 - val_accuracy: 0.8802\n",
      "Epoch 10/20\n",
      "844/844 [==============================] - 7s 8ms/step - loss: 0.6046 - accuracy: 0.8481 - val_loss: 0.4958 - val_accuracy: 0.8928\n",
      "Epoch 11/20\n",
      "844/844 [==============================] - 7s 8ms/step - loss: 0.5498 - accuracy: 0.8595 - val_loss: 0.4482 - val_accuracy: 0.8992\n",
      "Epoch 12/20\n",
      "844/844 [==============================] - 7s 8ms/step - loss: 0.5074 - accuracy: 0.8681 - val_loss: 0.4112 - val_accuracy: 0.9037\n",
      "Epoch 13/20\n",
      "844/844 [==============================] - 7s 8ms/step - loss: 0.4734 - accuracy: 0.8750 - val_loss: 0.3814 - val_accuracy: 0.9078\n",
      "Epoch 14/20\n",
      "844/844 [==============================] - 7s 9ms/step - loss: 0.4456 - accuracy: 0.8811 - val_loss: 0.3570 - val_accuracy: 0.9135\n",
      "Epoch 15/20\n",
      "844/844 [==============================] - 7s 8ms/step - loss: 0.4225 - accuracy: 0.8869 - val_loss: 0.3368 - val_accuracy: 0.9163\n",
      "Epoch 16/20\n",
      "844/844 [==============================] - 7s 8ms/step - loss: 0.4032 - accuracy: 0.8909 - val_loss: 0.3201 - val_accuracy: 0.9193\n",
      "Epoch 17/20\n",
      "844/844 [==============================] - 7s 8ms/step - loss: 0.3863 - accuracy: 0.8953 - val_loss: 0.3056 - val_accuracy: 0.9208\n",
      "Epoch 18/20\n",
      "844/844 [==============================] - 7s 8ms/step - loss: 0.3715 - accuracy: 0.8984 - val_loss: 0.2932 - val_accuracy: 0.9220\n",
      "Epoch 19/20\n",
      "844/844 [==============================] - 7s 9ms/step - loss: 0.3585 - accuracy: 0.9015 - val_loss: 0.2825 - val_accuracy: 0.9247\n",
      "Epoch 20/20\n",
      "844/844 [==============================] - 7s 9ms/step - loss: 0.3469 - accuracy: 0.9044 - val_loss: 0.2721 - val_accuracy: 0.9277\n",
      "313/313 [==============================] - 1s 4ms/step - loss: 0.3199 - accuracy: 0.9139\n",
      "Test Loss: 0.3198603689670563\n",
      "Test Accuracy: 0.9139000177383423\n"
     ]
    }
   ],
   "source": [
    "# Training Parameters\n",
    "\n",
    "history = model.fit(x_train, \n",
    "                    y_train,\n",
    "                    batch_size=64,\n",
    "                    epochs=20,\n",
    "                    validation_split=0.1,\n",
    "                    shuffle=True)\n",
    "\n",
    "# Evaluate the performance of our trained model\n",
    "scores = model.evaluate(x_test, \n",
    "                        y_test, \n",
    "                        verbose=1)\n",
    "\n",
    "print('Test Loss:', scores[0])\n",
    "print('Test Accuracy:', scores[1])"
   ]
  },
  {
   "cell_type": "markdown",
   "metadata": {
    "colab": {},
    "colab_type": "code",
    "id": "_nydsQshueCB"
   },
   "source": [
    "<br>\n",
    "\n",
    "---\n",
    "\n",
    "<br>"
   ]
  }
 ],
 "metadata": {
  "accelerator": "GPU",
  "colab": {
   "collapsed_sections": [],
   "name": "13.1 Built LeNet and test on MNIST.ipynb",
   "provenance": []
  },
  "kernelspec": {
   "display_name": "Python 3",
   "language": "python",
   "name": "python3"
  },
  "language_info": {
   "codemirror_mode": {
    "name": "ipython",
    "version": 3
   },
   "file_extension": ".py",
   "mimetype": "text/x-python",
   "name": "python",
   "nbconvert_exporter": "python",
   "pygments_lexer": "ipython3",
   "version": "3.7.6"
  }
 },
 "nbformat": 4,
 "nbformat_minor": 1
}
